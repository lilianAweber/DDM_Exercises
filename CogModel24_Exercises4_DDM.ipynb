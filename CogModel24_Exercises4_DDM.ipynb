{
  "cells": [
    {
      "cell_type": "markdown",
      "metadata": {
        "id": "F0cSq_6wbYou"
      },
      "source": [
        "# Exercise 4: THE DRIFT-DIFFUSION MODEL\n",
        "## Cognitive Modeling Lecture 2024/25\n",
        "\n",
        "This notebook is based on a tutorial provided by Max Shinn as part of the BAMB! summer school."
      ]
    },
    {
      "cell_type": "code",
      "execution_count": 1,
      "metadata": {
        "colab": {
          "base_uri": "https://localhost:8080/"
        },
        "id": "IjBkw1iBbYox",
        "outputId": "683d7cfe-4957-4d55-e708-4c1cb9685f2e"
      },
      "outputs": [
        {
          "output_type": "stream",
          "name": "stdout",
          "text": [
            "\u001b[?25l   \u001b[90m━━━━━━━━━━━━━━━━━━━━━━━━━━━━━━━━━━━━━━━━\u001b[0m \u001b[32m0.0/117.6 kB\u001b[0m \u001b[31m?\u001b[0m eta \u001b[36m-:--:--\u001b[0m\r\u001b[2K   \u001b[91m━━━━━━━━━━━━━━━━━━━━━━━━━━━━━━━━━━━━━━\u001b[0m\u001b[90m╺\u001b[0m\u001b[90m━\u001b[0m \u001b[32m112.6/117.6 kB\u001b[0m \u001b[31m4.0 MB/s\u001b[0m eta \u001b[36m0:00:01\u001b[0m\r\u001b[2K   \u001b[90m━━━━━━━━━━━━━━━━━━━━━━━━━━━━━━━━━━━━━━━━\u001b[0m \u001b[32m117.6/117.6 kB\u001b[0m \u001b[31m1.6 MB/s\u001b[0m eta \u001b[36m0:00:00\u001b[0m\n",
            "\u001b[?25h"
          ]
        }
      ],
      "source": [
        "# If running through Google Colab, run this cell to install pyddm\n",
        "!pip -q install pyddm"
      ]
    },
    {
      "cell_type": "code",
      "execution_count": null,
      "metadata": {
        "id": "aIp6K8nebYoy"
      },
      "outputs": [],
      "source": [
        "import pandas as pd\n",
        "import matplotlib.pyplot as plt\n",
        "import numpy as np\n",
        "import pyddm"
      ]
    },
    {
      "cell_type": "code",
      "source": [
        "#@title 1. Define a model and run the PyDDM model GUI to explore parameters\n",
        "import pyddm\n",
        "import pyddm.plot\n",
        "import numpy as np\n",
        "model = pyddm.gddm(drift=\"driftrate\",\n",
        "                   noise=\"c\",\n",
        "                   bound=lambda t,initial_B,collapse_rate : initial_B * np.exp(-collapse_rate*t),\n",
        "                   starting_position=\"x0\",\n",
        "                   parameters={\"driftrate\": (-3, 3),\n",
        "                               \"initial_B\": (.5, 1.5),\n",
        "                               \"collapse_rate\": (0, 10),\n",
        "                               \"x0\": (-.9, .9),\n",
        "                               \"c\": (0.1, 2)})\n",
        "\n",
        "pyddm.plot.model_gui_jupyter(model)\n",
        "# pyddm.plot.model_gui(model) # If not using a Jupyter notebook or Google Colab"
      ],
      "metadata": {
        "id": "RJCdfjnGfADY"
      },
      "execution_count": null,
      "outputs": []
    },
    {
      "cell_type": "markdown",
      "source": [
        "This demo can be run like a normal Jupyter notebook. If you've never used Jupyter notebooks before, hover over both headings below (\"Install PyDDM on Google Colab\" and \"Define the model and run the GUI\") and press the play button on each. An interactive demo will show below. To make changes to the model and try out your changes, click on \"Show code\" and edit it. When you are done, click on the play button again to update the demo."
      ],
      "metadata": {
        "id": "2ZA3ub6vfzFm"
      }
    },
    {
      "cell_type": "markdown",
      "metadata": {
        "id": "HFWPMPbcbYoz"
      },
      "source": [
        "## 2. *(optional)* Simulating the drift-diffusion model by hand\n",
        "We're going to simulate the drift-diffusion model in a variety of conditions and study of patterns of reaction times and responses that it produces, to develop some intutions on how the different parameters impact the behavior produced. The idea is to learning how the DDM works, but in practice, it is better to use an optimised library for simulating DDMs in your research.  In parts 2-4, we will learn to use one such library."
      ]
    },
    {
      "cell_type": "markdown",
      "metadata": {
        "id": "7IGUoSp3bYoz"
      },
      "source": [
        "### a) Write a function to simulate the DDM"
      ]
    },
    {
      "cell_type": "code",
      "execution_count": null,
      "metadata": {
        "id": "_JQjMEaVbYoz"
      },
      "outputs": [],
      "source": [
        "def run_ddm(drift_rate=.5, noise=.8, bound=1.2, dt=.01, T_dur=4):\n",
        "    \"\"\"\n",
        "    Simulate single run of discrete DDM (stores trajectory of decision variable)\n",
        "\n",
        "    [X, side, RT] = run_ddm(v, a, z, dt)\n",
        "\n",
        "    Input:\n",
        "        drift_rate: drift rate\n",
        "        noise: standard deviation of noise\n",
        "        bound: the threshold(lower boundary corresponds to -a, upper boundary to a)\n",
        "        dt: time step for discretized version of dynamics\n",
        "        T_dur: total runtime, in seconds\n",
        "\n",
        "    Output:\n",
        "        X: vector with dynamics of the decision variable until hitting the boundary\n",
        "        side: +1 if DV hits the upper boundary, -1 if DV hits the lower boundary\n",
        "        RT: reaction time\n",
        "\n",
        "    \"\"\"\n",
        "\n",
        "    tmax = int(T_dur/dt);   # maximum number of time steps\n",
        "\n",
        "    # Initialize decision variable x to 0\n",
        "    x = 0\n",
        "\n",
        "    # Vector of all values of DV\n",
        "    X = [x]\n",
        "\n",
        "    # Looping through time\n",
        "    for t in range(tmax):\n",
        "        x += drift_rate*dt + np.sqrt(dt) * noise * np.random.randn() # discrete DDM equation: update of decision variable\n",
        "\n",
        "        X.append(x) # append x to vector of DV\n",
        "\n",
        "        # check boundary conditions\n",
        "        if x <= -bound:\n",
        "            side = -1\n",
        "            break\n",
        "        if x >= bound:\n",
        "            side = 1\n",
        "            break\n",
        "    else: # executed if no break has occurred in the for loop\n",
        "        # If no boundary is hit before maximum time,\n",
        "        # choose according to decision variable value\n",
        "        choice = 1 if x > 0 else -1\n",
        "\n",
        "    rt = t*dt\n",
        "    return X, side, rt\n",
        "\n",
        "# Or, alternatively, the vectorized four-line version\n",
        "def run_ddm(drift_rate, noise=.5, bound=1, T_dur=4, dt=.01):\n",
        "    # Run the actual trajectory\n",
        "    trajectory = np.cumsum(drift_rate*dt + noise*np.sqrt(dt)*np.random.randn(int(T_dur/dt)))\n",
        "    # Find the first place where it crosses the upper or lower bound.  If there\n",
        "    # was no bound crossing, consider the RT to be the end time (forcing a\n",
        "    # choice).\n",
        "    RT_index = min(np.where(np.abs(trajectory)>bound)[0], default=len(trajectory)-1)\n",
        "    # Calculate the RT from the bound crossing\n",
        "    RT = RT_index * dt\n",
        "    # Check whether it is the upper or lower bound we crossed.  This also\n",
        "    # handles the case where the trial didn't terminate, i.e., where RT_index\n",
        "    # is the last element in the trajectory, by taking the bound it was closest\n",
        "    # to.\n",
        "    choice = int(trajectory[RT_index] > 0)\n",
        "    return trajectory[0:RT_index], choice, RT\n",
        "\n"
      ]
    },
    {
      "cell_type": "markdown",
      "metadata": {
        "id": "GRrIpR9RbYo0"
      },
      "source": [
        "Once you have written this function, use it simulate 5 trials and plot dynamics of the decision variable and bounds\n",
        "Use parameter values: drift = 0.5, bound = 1.2, and no non-decision-time.\n",
        "Use time step dt = 0.001 and a duration of 4 sec."
      ]
    },
    {
      "cell_type": "code",
      "execution_count": null,
      "metadata": {
        "colab": {
          "base_uri": "https://localhost:8080/",
          "height": 466
        },
        "id": "OebAY1xNbYo0",
        "outputId": "6f602c8f-d8e3-4d3f-d031-27745445ee5d"
      },
      "outputs": [
        {
          "output_type": "execute_result",
          "data": {
            "text/plain": [
              "<matplotlib.lines.Line2D at 0x7c2e2ce07a90>"
            ]
          },
          "metadata": {},
          "execution_count": 4
        },
        {
          "output_type": "display_data",
          "data": {
            "text/plain": [
              "<Figure size 640x480 with 1 Axes>"
            ],
            "image/png": "[encoded data removed]"
          },
          "metadata": {}
        }
      ],
      "source": [
        "bound = 1.2\n",
        "noise = .8\n",
        "drift_rate = .5\n",
        "T_dur = 4\n",
        "dt = .001\n",
        "for i_trial in range(5): # for each trial\n",
        "    X, _, _ = run_ddm(drift_rate=drift_rate, bound=bound, noise=noise, dt=dt, T_dur=T_dur) # simulate my DDM\n",
        "    plt.plot(dt*np.arange(0, len(X)), X, c='k')\n",
        "\n",
        "plt.xlabel('Time')\n",
        "plt.ylabel('Decision variable')\n",
        "plt.ylim((-bound-.2, bound+.2))\n",
        "plt.xlim(0, T_dur+.2)\n",
        "plt.axhline(-bound, c='r')\n",
        "plt.axhline(bound, c='r')"
      ]
    },
    {
      "cell_type": "markdown",
      "metadata": {
        "id": "3BRmVdvPbYo0"
      },
      "source": [
        "Repeat with 500 trials.  Add transparency of 0.01 to the lines so that you can still see the density."
      ]
    },
    {
      "cell_type": "code",
      "execution_count": null,
      "metadata": {
        "colab": {
          "base_uri": "https://localhost:8080/",
          "height": 466
        },
        "id": "R2H4Zxx4bYo1",
        "outputId": "df3a1417-aaf9-4b52-9894-decfcd9e2f15"
      },
      "outputs": [
        {
          "output_type": "execute_result",
          "data": {
            "text/plain": [
              "<matplotlib.lines.Line2D at 0x7c2e62cdc040>"
            ]
          },
          "metadata": {},
          "execution_count": 5
        },
        {
          "output_type": "display_data",
          "data": {
            "text/plain": [
              "<Figure size 640x480 with 1 Axes>"
            ],
            "image/png": "[encoded data removed]"
          },
          "metadata": {}
        }
      ],
      "source": [
        "for i_trial in range(500): # for each trial\n",
        "    X, _, _ = run_ddm(drift_rate=drift_rate, bound=bound, noise=noise, dt=.001, T_dur=T_dur) # simulate my DDM\n",
        "    plt.plot(dt*np.arange(0, len(X)), X, c='k', alpha=.01)\n",
        "\n",
        "plt.xlabel('Time')\n",
        "plt.ylabel('Decision variable')\n",
        "plt.ylim((-bound-.2, bound+.2))\n",
        "plt.xlim((0, T_dur+.2))\n",
        "plt.axhline(bound, c='r')\n",
        "plt.axhline(-bound, c='r')"
      ]
    },
    {
      "cell_type": "markdown",
      "metadata": {
        "id": "sYjzHZO6bYo1"
      },
      "source": [
        "Notice with transparency that you can see the density of particles which hit a given point.  We will come back to this in Part II."
      ]
    },
    {
      "cell_type": "markdown",
      "metadata": {
        "id": "P99-B9cHbYo1"
      },
      "source": [
        "### b) Plot the RT distribution\n",
        "Run the DDM 10000 times.  We don't care about the trajectories here, but we do care about the RT and the choice that was made. Plot a histogram, separately for correct and incorrect responses.\n",
        "Use parameters: drift = 0.5, bound = 1.2, noise = 0.8, dt=.005, T_dur = 4.  Also include a non-decision time of 0.3 s."
      ]
    },
    {
      "cell_type": "code",
      "execution_count": null,
      "metadata": {
        "colab": {
          "base_uri": "https://localhost:8080/",
          "height": 486
        },
        "id": "b0pkW_FhbYo1",
        "outputId": "e8202a64-661c-4bcf-b9af-a6f0f718d83e"
      },
      "outputs": [
        {
          "output_type": "display_data",
          "data": {
            "text/plain": [
              "<Figure size 640x480 with 2 Axes>"
            ],
            "image/png": "[encoded data removed]"
          },
          "metadata": {}
        }
      ],
      "source": [
        "N_trials = 10000\n",
        "drift_rate = .5\n",
        "bound = 1.2\n",
        "noise = .8\n",
        "dt = .005\n",
        "T_dur = 4\n",
        "non_decision_time = .3\n",
        "\n",
        "correct_rts = []\n",
        "error_rts = []\n",
        "for i in range(0, N_trials):\n",
        "    _, resp, rt = run_ddm(drift_rate=drift_rate, noise=noise, bound=bound, dt=dt, T_dur=T_dur)\n",
        "    if resp > 0:\n",
        "        correct_rts.append(rt + non_decision_time)\n",
        "    else:\n",
        "        error_rts.append(rt + non_decision_time)\n",
        "\n",
        "ax1 = plt.subplot(2,1,1)\n",
        "h = plt.hist(correct_rts, bins=np.arange(0, T_dur, dt*20))\n",
        "plt.title(\"Correct RT distribution\")\n",
        "plt.subplot(2,1,2, sharey=ax1)\n",
        "plt.hist(error_rts, bins=np.arange(0, T_dur, dt*20))\n",
        "plt.title(\"Error RT distribution\")\n",
        "plt.tight_layout()\n"
      ]
    },
    {
      "cell_type": "markdown",
      "metadata": {
        "id": "KYiC3EkTbYo1"
      },
      "source": [
        "# 3. Simulating the drift-diffusion model with PyDDM\n",
        "In practice, we generally want to perform simulations with a simulator instead of by hand.  This is because there are more efficient solutions than simulating individual trajectories.  For instance, many DDMs have closed-form mathematical expressions for the RT distribution.  For those that don't, it is possible to simulate the entire probability distribution of evolving particle density instead of individual particles one by one.\n",
        "\n",
        "You may find it useful in this section and later sections to consult the [PyDDM documentation](https://pyddm.readthedocs.io/en/stable/), especially the [cookbook](https://pyddm.readthedocs.io/en/stable/cookbook/index.html) and the [quick start guide](https://pyddm.readthedocs.io/en/stable/quickstart.html)."
      ]
    },
    {
      "cell_type": "markdown",
      "metadata": {
        "id": "-aCPFHj0bYo2"
      },
      "source": [
        "### a) Simulate 10000 trials of the drift-diffusion model with PyDDM and plot the RT distribution\n",
        "Hint: You will want to create a PyDDM Model object, solve it, and then use the \"resample\" function on the solution."
      ]
    },
    {
      "cell_type": "code",
      "execution_count": null,
      "metadata": {
        "colab": {
          "base_uri": "https://localhost:8080/",
          "height": 554
        },
        "id": "Pi2NlM7VbYo2",
        "outputId": "c4ca89dd-fc6e-48b7-847a-cfe205a873d8"
      },
      "outputs": [
        {
          "output_type": "stream",
          "name": "stderr",
          "text": [
            "Warning: This variable (corr) is deprecated and will be removed in a future version of PyDDM.  Please use Sample.choice_upper instead.\n",
            "Warning:pyddm:This variable (corr) is deprecated and will be removed in a future version of PyDDM.  Please use Sample.choice_upper instead.\n",
            "Warning: This variable (err) is deprecated and will be removed in a future version of PyDDM.  Please use Sample.choice_lower instead.\n",
            "Warning:pyddm:This variable (err) is deprecated and will be removed in a future version of PyDDM.  Please use Sample.choice_lower instead.\n"
          ]
        },
        {
          "output_type": "display_data",
          "data": {
            "text/plain": [
              "<Figure size 640x480 with 2 Axes>"
            ],
            "image/png": "[encoded data removed]"
          },
          "metadata": {}
        }
      ],
      "source": [
        "import pyddm\n",
        "m = pyddm.Model(drift=pyddm.DriftConstant(drift=.5), noise=pyddm.NoiseConstant(noise=.8), bound=pyddm.BoundConstant(B=1.2), overlay=pyddm.OverlayNonDecision(nondectime=.3), T_dur=T_dur)\n",
        "sol = m.solve()\n",
        "sample = sol.resample(10000)\n",
        "correct_rts = sample.corr\n",
        "error_rts = sample.err\n",
        "\n",
        "ax1 = plt.subplot(2,1,1)\n",
        "plt.hist(correct_rts, bins=np.arange(0, T_dur, 20*.005))\n",
        "plt.title(\"Correct RT distribution\")\n",
        "plt.subplot(2,1,2, sharey=ax1)\n",
        "plt.hist(error_rts, bins=np.arange(0, T_dur, 20*.005))\n",
        "plt.title(\"Error RT distribution\")\n",
        "plt.tight_layout()"
      ]
    },
    {
      "cell_type": "markdown",
      "metadata": {
        "id": "rmTwWqVibYo2"
      },
      "source": [
        "### b) Simulate an infinite number of trials of the drift-diffusion model and plot the density\n",
        "Hint: Every \"solution\" object contains the full RT distribution as pdf(\"correct\") and pdf(\"error\"), so this should be easier than (a)"
      ]
    },
    {
      "cell_type": "code",
      "execution_count": null,
      "metadata": {
        "colab": {
          "base_uri": "https://localhost:8080/",
          "height": 469
        },
        "id": "4YgryiesbYo2",
        "outputId": "4e0b5b89-cbeb-4d5e-da0f-e4dbeaf0c92f"
      },
      "outputs": [
        {
          "output_type": "execute_result",
          "data": {
            "text/plain": [
              "Text(0.5, 1.0, 'Error RT distribution')"
            ]
          },
          "metadata": {},
          "execution_count": 8
        },
        {
          "output_type": "display_data",
          "data": {
            "text/plain": [
              "<Figure size 640x480 with 2 Axes>"
            ],
            "image/png": "[encoded data removed]"
          },
          "metadata": {}
        }
      ],
      "source": [
        "import pyddm\n",
        "m = pyddm.Model(drift=pyddm.DriftConstant(drift=.5), noise=pyddm.NoiseConstant(noise=.8), bound=pyddm.BoundConstant(B=1.2), overlay=pyddm.OverlayNonDecision(nondectime=.3), T_dur=T_dur)\n",
        "sol = m.solve()\n",
        "\n",
        "correct_pdf = sol.pdf(\"correct\")\n",
        "error_pdf = sol.pdf(\"error\")\n",
        "\n",
        "ax1 = plt.subplot(2,1,1)\n",
        "plt.plot(m.t_domain(), correct_pdf)\n",
        "plt.title(\"Correct RT distribution\")\n",
        "plt.subplot(2,1,2, sharey=ax1)\n",
        "plt.plot(m.t_domain(), error_pdf)\n",
        "plt.title(\"Error RT distribution\")"
      ]
    },
    {
      "cell_type": "markdown",
      "metadata": {
        "id": "MYL48-gYbYo3"
      },
      "source": [
        "### c) Use the following code to explore how the RT distribution depends on drift, noise, and bound\n",
        "Note: The \"Fittable\" object is a placeholder for a value which has not yet been fit to data.  We will see it again when we fit models to data below.\n",
        "Hint: Check the \"real-time\" checkbox once the model gui starts in order to update the plot as you drag the sliders"
      ]
    },
    {
      "cell_type": "code",
      "execution_count": null,
      "metadata": {
        "colab": {
          "base_uri": "https://localhost:8080/",
          "height": 634,
          "referenced_widgets": [
            "b9af5ab879ae4f5fafcc3416453b0a29",
            "61f21e39962c4f5ca2f12c3c6ea7845f",
            "56bcf74446a947b193a1eb566292cd21",
            "36c81085b9db499ba239cab9f75702ab",
            "1d30903a68474bf29a3e9abf188c891e",
            "8d4dc8872f014c8bb1eed6e8bc616e0a",
            "a8c9abf977f643678a5c8f7e41e8d03d",
            "31ef4abf62954249a7e38f41ee96e6c4",
            "e3201313fa6f4ab792faa6f4de5dda66",
            "a9a9246457c947faa0069453e0cd338b",
            "afb82f89f0604171ab12a1061fc1e62d",
            "4ffd1d282a8241128d225844b32f9cab",
            "5bc9cd2561304d539aa465fddf40ed6d",
            "859c6ed2edfd46f199c914aaba417cb8",
            "ef9a36758dff4028be6c547e2185c6d5",
            "4520d5fac6d94f3290996e2eb551a406",
            "6b1f7c32fb72490e8bb58624fed575fa",
            "1e84964f3a41461799debb8dd89a26fb",
            "d15ca6da3c444e7eabec482d80630e00",
            "b7f35cbccda94dc488bb4910e2a51e9e",
            "f9bbe9a8d3ff4b788ec4a304818f4e4c",
            "1cc4e0a498454ae890ea0cd4772f5b12",
            "3507e7d9ee5f4c348439e5c0a6d49843",
            "b6feb2c3696049e692efdd335e0b1910",
            "eea5df88708e42b08d25a5ca3586383f",
            "acc9698863ff4cbe84148c00f443c47e",
            "bb7844fa7d6d42a88b2cbf2cadc93c82",
            "d234eb84cde44a62a39bf3e49b1e3d05",
            "25e675726df5473794a261c8f21affcb",
            "2cbe305081b546439b4104ea845f2b10",
            "677a4e2e816a42eb819ae8da85cb6c8e"
          ]
        },
        "id": "jKCyRrY4bYo3",
        "outputId": "c8b72795-bdeb-471b-a69e-9aedcb3dfa80"
      },
      "outputs": [
        {
          "output_type": "display_data",
          "data": {
            "text/plain": [
              "HBox(children=(VBox(children=(FloatSlider(value=0.5, continuous_update=False, description='drift', max=2.0, mi…"
            ],
            "application/vnd.jupyter.widget-view+json": {
              "version_major": 2,
              "version_minor": 0,
              "model_id": "b9af5ab879ae4f5fafcc3416453b0a29"
            }
          },
          "metadata": {}
        },
        {
          "output_type": "display_data",
          "data": {
            "text/plain": [
              "Output()"
            ],
            "application/vnd.jupyter.widget-view+json": {
              "version_major": 2,
              "version_minor": 0,
              "model_id": "2cbe305081b546439b4104ea845f2b10"
            }
          },
          "metadata": {}
        }
      ],
      "source": [
        "import pyddm\n",
        "from pyddm.plot import model_gui_jupyter\n",
        "m = pyddm.Model(drift=pyddm.DriftConstant(drift=pyddm.Fittable(minval=-2, maxval=2, default=.5)), noise=pyddm.NoiseConstant(noise=pyddm.Fittable(minval=.1, maxval=1, default=.8)), bound=pyddm.BoundConstant(B=pyddm.Fittable(minval=.3, maxval=1.5, default=1.2)), overlay=pyddm.OverlayNonDecision(nondectime=pyddm.Fittable(minval=0, maxval=.5, default=.3)), T_dur=4, dt=.001)\n",
        "model_gui_jupyter(m)"
      ]
    },
    {
      "cell_type": "markdown",
      "metadata": {
        "id": "ECFu_rXubYo3"
      },
      "source": [
        "# 4. Fitting the drift-diffusion model"
      ]
    },
    {
      "cell_type": "markdown",
      "metadata": {
        "id": "Ih8SuTTdbYo3"
      },
      "source": [
        "### a) Fit a simple DDM for a single subject\n",
        "We will fit the DDM to a non-human primate subject from [Roitman and Shadlen (2002)](https://www.jneurosci.org/content/22/21/9475) performing the random dot motion task.\n",
        "\n",
        "[Download data](https://pyddm.readthedocs.io/en/latest/_downloads/bcc1102d5b69c49dac52b49536b87240/roitman_rts.csv)\n"
      ]
    },
    {
      "cell_type": "code",
      "execution_count": null,
      "metadata": {
        "colab": {
          "base_uri": "https://localhost:8080/"
        },
        "id": "2DZIotZtbYo3",
        "outputId": "6972b494-7379-4c85-8cfa-12e291b85210"
      },
      "outputs": [
        {
          "output_type": "stream",
          "name": "stderr",
          "text": [
            "Warning: This function (from_pandas_dataframe()) is deprecated and will be removed in a future version of PyDDM.  Please use the choice_column_name argument instead.\n",
            "Warning:pyddm:This function (from_pandas_dataframe()) is deprecated and will be removed in a future version of PyDDM.  Please use the choice_column_name argument instead.\n"
          ]
        }
      ],
      "source": [
        "import pyddm\n",
        "import pyddm.plot\n",
        "import pandas\n",
        "\n",
        "#First, load the data we wish to use\n",
        "df_rt = pandas.read_csv(\"https://raw.githubusercontent.com/mwshinn/PyDDM/master/doc/downloads/roitman_rts.csv\")\n",
        "\n",
        "df_rt = df_rt[df_rt[\"monkey\"] == 1] # Only monkey 1\n",
        "sample = pyddm.Sample.from_pandas_dataframe(df_rt, rt_column_name=\"rt\", correct_column_name=\"correct\")"
      ]
    },
    {
      "cell_type": "markdown",
      "metadata": {
        "id": "cDZlb3CmbYo3"
      },
      "source": [
        "First, let's fit a model that ignores the coherence.  It is probably not going to be a very good model, but it will show us how to fit a model in PyDDM.  We will fit the previous model we built."
      ]
    },
    {
      "cell_type": "code",
      "execution_count": null,
      "metadata": {
        "colab": {
          "base_uri": "https://localhost:8080/",
          "height": 602,
          "referenced_widgets": [
            "ee40b7c3942049e1bb92d02a184c051d",
            "b5dadd000f5b403ba67de88a4dd8fd3f",
            "88f7eacb7bb24671a2583bb1d724a4ca",
            "d33e2cc0a2d543308caafea01f473a32",
            "09e3a86aca294516a5d5784a04c214ba",
            "6079367bc6b44962b0a95f28515ad9ee",
            "4932306e79ce470792de7130d8967ea6",
            "809b25f695ad46c185f481ad50182f73",
            "1eb6ce0b7d0144e0adfb31abbe975f3b",
            "dc4c0bf1349947e38ba56baf2db520ca",
            "99be80cd499b403982ed8692220bf3cf",
            "43396b266df44f8fac293d21d3fc205e",
            "2b212ad58dc04d53bd6bbcc5e1c4fabe",
            "b647dc687c4340f995cadf826710c52c",
            "9e11c770115f4cdc8dc0b79c72aff626",
            "b028ef2e2dee4df6a70cfc86b3537007",
            "57d14d41bb5d489ab30171be62633c1e",
            "8c45cc62279e492a9735ef3fd2353611",
            "014650f9fc82421e8c11f8f329ad2f77",
            "d39a2e09d1e74cb8aa7b03ea7d282d6a",
            "8b4deffe82e9483ba9a1caab32ebe227",
            "4b1b0620169045d6b9097f81217361a6",
            "db4e14bbd1734e2b94bfddf96eac5975",
            "40034f9158424cc09c32818a6f0bf61f",
            "84d0d17fec4146b38bebf51fbc3ee8b4",
            "e827f9b160c64fc1b65a2a03450b242b",
            "ac45bc2f0b2e441a9a97e35587ab2f71",
            "31026ec9ec69449aa513ee124758ed0a"
          ]
        },
        "id": "070CHhpcbYo4",
        "outputId": "67373218-a573-46b1-ae58-e15b77944b58"
      },
      "outputs": [
        {
          "output_type": "display_data",
          "data": {
            "text/plain": [
              "HBox(children=(VBox(children=(FloatSlider(value=-0.36549257391484424, continuous_update=False, description='dr…"
            ],
            "application/vnd.jupyter.widget-view+json": {
              "version_major": 2,
              "version_minor": 0,
              "model_id": "ee40b7c3942049e1bb92d02a184c051d"
            }
          },
          "metadata": {}
        },
        {
          "output_type": "display_data",
          "data": {
            "text/plain": [
              "Output()"
            ],
            "application/vnd.jupyter.widget-view+json": {
              "version_major": 2,
              "version_minor": 0,
              "model_id": "ac45bc2f0b2e441a9a97e35587ab2f71"
            }
          },
          "metadata": {}
        }
      ],
      "source": [
        "m = pyddm.Model(drift=pyddm.DriftConstant(drift=pyddm.Fittable(minval=-5, maxval=5)),\n",
        "          noise=pyddm.NoiseConstant(noise=pyddm.Fittable(minval=.1, maxval=2)),\n",
        "          overlay=pyddm.OverlayNonDecision(nondectime=pyddm.Fittable(minval=0, maxval=.5)))\n",
        "\n",
        "pyddm.plot.model_gui_jupyter(model=m, sample=sample)"
      ]
    },
    {
      "cell_type": "markdown",
      "metadata": {
        "id": "13n0CRchbYo4"
      },
      "source": [
        "Now we perform the fit"
      ]
    },
    {
      "cell_type": "code",
      "execution_count": null,
      "metadata": {
        "colab": {
          "base_uri": "https://localhost:8080/"
        },
        "id": "wAbQbEqebYo4",
        "outputId": "3843bea2-5e5d-4ecd-91aa-a2abb88a1184"
      },
      "outputs": [
        {
          "output_type": "stream",
          "name": "stderr",
          "text": [
            "Info: Params [1.54468887 1.42896274 0.28038462] gave 1028.431105454476\n",
            "Info:pyddm:Params [1.54468887 1.42896274 0.28038462] gave 1028.431105454476\n"
          ]
        },
        {
          "output_type": "execute_result",
          "data": {
            "text/plain": [
              "Model(name='', drift=DriftConstant(drift=Fitted(1.5446888744461447, minval=-5, maxval=5)), noise=NoiseConstant(noise=Fitted(1.428962744135703, minval=0.1, maxval=2)), bound=BoundConstant(B=1), IC=ICPointSourceCenter(), overlay=OverlayNonDecision(nondectime=Fitted(0.28038462002142295, minval=0, maxval=0.5)), dx=0.005, dt=0.005, T_dur=2.0, fitresult=FitResult(fitting_method='differential_evolution', method='auto', loss='Negative log likelihood', value=1028.431105454476, nparams=3, samplesize=2615, mess=''))"
            ]
          },
          "metadata": {},
          "execution_count": 12
        }
      ],
      "source": [
        "pyddm.fit_adjust_model(model=m, sample=sample, lossfunction=pyddm.LossRobustLikelihood, verbose=False)"
      ]
    },
    {
      "cell_type": "markdown",
      "metadata": {
        "id": "5wNinTDzbYo4"
      },
      "source": [
        "Show information about the fit."
      ]
    },
    {
      "cell_type": "code",
      "execution_count": null,
      "metadata": {
        "scrolled": true,
        "colab": {
          "base_uri": "https://localhost:8080/"
        },
        "id": "7bLnwVO7bYo4",
        "outputId": "597aa523-0907-43fe-dd68-0b27df4c3ae6"
      },
      "outputs": [
        {
          "output_type": "stream",
          "name": "stdout",
          "text": [
            "Model information:\n",
            "Choices: 'correct' (upper boundary), 'error' (lower boundary)\n",
            "Drift component DriftConstant:\n",
            "    constant\n",
            "    Fitted parameters:\n",
            "    - drift: 1.544689\n",
            "Noise component NoiseConstant:\n",
            "    constant\n",
            "    Fitted parameters:\n",
            "    - noise: 1.428963\n",
            "Bound component BoundConstant:\n",
            "    constant\n",
            "    Fixed parameters:\n",
            "    - B: 1.000000\n",
            "IC component ICPointSourceCenter:\n",
            "    point_source_center\n",
            "    (No parameters)\n",
            "Overlay component OverlayNonDecision:\n",
            "    Add a non-decision by shifting the histogram\n",
            "    Fitted parameters:\n",
            "    - nondectime: 0.280385\n",
            "Fit information:\n",
            "    Loss function: Negative log likelihood\n",
            "    Loss function value: 1028.431105454476\n",
            "    Fitting method: differential_evolution\n",
            "    Solver: auto\n",
            "    Other properties:\n",
            "        - nparams: 3\n",
            "        - samplesize: 2615\n",
            "        - mess: ''\n",
            "\n"
          ]
        }
      ],
      "source": [
        "pyddm.display_model(m)"
      ]
    },
    {
      "cell_type": "markdown",
      "metadata": {
        "id": "Fr_iULWZbYo4"
      },
      "source": [
        "We can also use the model gui again, but this time, to visualise the fit that we just performed."
      ]
    },
    {
      "cell_type": "code",
      "execution_count": null,
      "metadata": {
        "colab": {
          "base_uri": "https://localhost:8080/",
          "height": 602,
          "referenced_widgets": [
            "8f0f9ed9f28e422caa863a50c7b2b3de",
            "45de1ba7ee674ae39da1ae59bb3bbab7",
            "741de72fee1d46a596ed583962c13a07",
            "240ecdecc5094a90ac742e28d35598ae",
            "561c239bb955456ab33ce3a182ba7bd6",
            "8caa75632e3a46e882e8a66492ad3f9e",
            "9058956e26514cee8486ed15229b053f",
            "c0e49b502b864a88b1a2ed4702975661",
            "25cc7644e4544db8842408042fdccd4f",
            "58742703100645cabfbbfc9000ba220c",
            "999f28fa78124f32a543aee05e7c7a35",
            "9888b03d7c1d43cabdc682b46a73b6f3",
            "f83df646ef0d4c34b38a5560dc2e69a4",
            "85c54d57f9304004a1e7f6d6a29f8945",
            "1c52776dc8d64663977b3e49b76831f1",
            "1fad7be32f324dd3b7417936b1555350",
            "e0b34fe7101749efaeeccfc80f4c7e23",
            "119584ae5ca6424ebf9c3610914029b4",
            "1c7297f6c4874527a3b414d8c317973f",
            "334d8bf0cef84bd3936bf59a23ea573f",
            "dbdf8fbf1cd34aab9a33b69b7d7aae0f",
            "50fd243a586446bfb2bcc5e7db1576c6",
            "fd5f0c4eaa1849289a1a5bf69b516951",
            "14f69f6fa843477fb0b3f2849f549123",
            "0283183617cd432ab6107e00a36d945a",
            "445f313767c64759a42b30ca9e476d33",
            "e65083ddc14e4d4ba9a7469927ee708c",
            "d76c6f96d03040fd92fe27334c6a9f04"
          ]
        },
        "id": "DnQKLwwlbYo5",
        "outputId": "14d26e69-08df-40d7-a344-8bffb83af905"
      },
      "outputs": [
        {
          "output_type": "display_data",
          "data": {
            "text/plain": [
              "HBox(children=(VBox(children=(FloatSlider(value=1.5446888744461447, continuous_update=False, description='drif…"
            ],
            "application/vnd.jupyter.widget-view+json": {
              "version_major": 2,
              "version_minor": 0,
              "model_id": "8f0f9ed9f28e422caa863a50c7b2b3de"
            }
          },
          "metadata": {}
        },
        {
          "output_type": "display_data",
          "data": {
            "text/plain": [
              "Output()"
            ],
            "application/vnd.jupyter.widget-view+json": {
              "version_major": 2,
              "version_minor": 0,
              "model_id": "e65083ddc14e4d4ba9a7469927ee708c"
            }
          },
          "metadata": {}
        }
      ],
      "source": [
        "pyddm.plot.model_gui_jupyter(model=m, sample=sample)"
      ]
    },
    {
      "cell_type": "markdown",
      "metadata": {
        "id": "picAF_W2bYo5"
      },
      "source": [
        "### b) Fitting a coherence-dependent DDM to a single subject\n",
        "\n",
        "Notice how behaviour is different depending on the coherence of the random dot motion.  So, we need a Drift class which depends on the coherence condition.  For this, [here is one from the PyDDM documentation](https://pyddm.readthedocs.io/en/latest/cookbook/driftnoise.html#drift-coh).  The bulk of this is implementing the get_drift function, which returns the drift value at a given time, position in space, and task conditions.  Here, we want the drift to be constant over time and space, but different for different task conditions.  So, we will use the \"conditions\" argument, and ignore the \"t\" and \"x\" arguments."
      ]
    },
    {
      "cell_type": "code",
      "execution_count": null,
      "metadata": {
        "id": "x7b9bx4YbYo5"
      },
      "outputs": [],
      "source": [
        "class DriftCoherence(pyddm.Drift):\n",
        "    name = \"Drift linearly depending on coherence\"\n",
        "    required_conditions = [\"coh\"] # This is from the Roitman-Shadlen dataset\n",
        "    required_parameters = [\"drift\"] # We can name this parameter anything we want\n",
        "    def get_drift(self, t, x, conditions, **kwargs):\n",
        "        return conditions['coh'] * self.drift"
      ]
    },
    {
      "cell_type": "markdown",
      "metadata": {
        "id": "iSey9xnZbYo5"
      },
      "source": [
        "Now, we can construct the final model and fit it to data.  Create a Model object which uses your new Drift class and visualise it with your sample using pyddm.plot.model_gui_jupyter."
      ]
    },
    {
      "cell_type": "code",
      "execution_count": null,
      "metadata": {
        "colab": {
          "base_uri": "https://localhost:8080/",
          "height": 602,
          "referenced_widgets": [
            "6b174c5495fe480998a603b7d5425991",
            "08a1fce0806345a99c0a6c47eba08320",
            "37f04206a749437088e2019ff7cb0aa7",
            "86801374a98d46e2baacba95a68bb6c1",
            "de676b5e2a9d477b825796f5a9045492",
            "39556d20c3cc4243bf01e14e81e39c92",
            "f49b15b8e8684715bdb3408275ee3f74",
            "2405ef0c9b0d4825a8dc8cc2a490bf47",
            "282b781a74d3400f902d43c127faa201",
            "ce657d2a25cc4a32810264b96047ccac",
            "4ab6c2150a654a79aa67c99b5f0d9e76",
            "46160ea240ba4fe696d3ae3b53743f48",
            "3608e32fc14746049776b64db9f8f4d3",
            "12cb16a128534a9a8faba7b40289eea1",
            "fe52a3fcbaea4bb4acdf2cc6a7670eba",
            "eab2dd27d00b4f47b41608ce204fc7e6",
            "79e95a71954f4d57b2aad9b06c1dc0c8",
            "9892a4fdb53f4382b075b2063afeed55",
            "399ede5e944549aea39df718160b20d2",
            "efcc66a52c1c457795a43973ee4ecd8a",
            "a8931a4ff41446e58603f00af006870f",
            "5a94fdf0efb14d5698a74808a0ec2e2c",
            "87dca0bfc4a34e3c86cdaf83f7577f8c",
            "a3eabdd694b545db8ff11e16c9d3dba1",
            "261c494bdbdb441f9194f5254c8ffbef",
            "9479e981fc0346438e36f462675b9d46",
            "01142704944d4f77be105865db2a0ab4",
            "ad516c13cc524bf1bc363b2605247e01",
            "5a6b7ebaf6754853aa246e29149b0f19",
            "036d2b30e6ce4c71b6c1e64fc966c3ae",
            "a41213c03116487a869a9a3c8ad1ed54"
          ]
        },
        "id": "WH4b1xfwbYo6",
        "outputId": "50cd38b4-13b2-44fc-97c4-f646ff1f47e1"
      },
      "outputs": [
        {
          "output_type": "display_data",
          "data": {
            "text/plain": [
              "HBox(children=(VBox(children=(FloatSlider(value=12.843583099317442, continuous_update=False, description='drif…"
            ],
            "application/vnd.jupyter.widget-view+json": {
              "version_major": 2,
              "version_minor": 0,
              "model_id": "6b174c5495fe480998a603b7d5425991"
            }
          },
          "metadata": {}
        },
        {
          "output_type": "display_data",
          "data": {
            "text/plain": [
              "Output()"
            ],
            "application/vnd.jupyter.widget-view+json": {
              "version_major": 2,
              "version_minor": 0,
              "model_id": "036d2b30e6ce4c71b6c1e64fc966c3ae"
            }
          },
          "metadata": {}
        }
      ],
      "source": [
        "m = pyddm.Model(drift=DriftCoherence(drift=pyddm.Fittable(minval=-20, maxval=20)),\n",
        "          noise=pyddm.NoiseConstant(noise=pyddm.Fittable(minval=.1, maxval=2)),\n",
        "          overlay=pyddm.OverlayNonDecision(nondectime=pyddm.Fittable(minval=0, maxval=.5)))\n",
        "\n",
        "pyddm.plot.model_gui_jupyter(model=m, sample=sample)"
      ]
    },
    {
      "cell_type": "markdown",
      "metadata": {
        "id": "d884rsKCbYo6"
      },
      "source": [
        "Now, fit your model to data using fit_adjust_model.  Use RobustLikelihood as a loss function."
      ]
    },
    {
      "cell_type": "code",
      "execution_count": null,
      "metadata": {
        "colab": {
          "base_uri": "https://localhost:8080/"
        },
        "id": "C--iAF9dbYo6",
        "outputId": "a77739a2-e1ae-419f-8025-4492388fa862"
      },
      "outputs": [
        {
          "output_type": "stream",
          "name": "stderr",
          "text": [
            "Info: Params [12.11286001  1.25778296  0.28383553] gave 358.1740777662922\n",
            "Info:pyddm:Params [12.11286001  1.25778296  0.28383553] gave 358.1740777662922\n"
          ]
        },
        {
          "output_type": "execute_result",
          "data": {
            "text/plain": [
              "Model(name='', drift=DriftCoherence(drift=Fitted(12.112860006457757, minval=-20, maxval=20)), noise=NoiseConstant(noise=Fitted(1.2577829554813191, minval=0.1, maxval=2)), bound=BoundConstant(B=1), IC=ICPointSourceCenter(), overlay=OverlayNonDecision(nondectime=Fitted(0.2838355308503759, minval=0, maxval=0.5)), dx=0.005, dt=0.005, T_dur=2.0, fitresult=FitResult(fitting_method='differential_evolution', method='auto', loss='Negative log likelihood', value=358.1740777662922, nparams=3, samplesize=2615, mess=''))"
            ]
          },
          "metadata": {},
          "execution_count": 17
        }
      ],
      "source": [
        "pyddm.fit_adjust_model(model=m, sample=sample, lossfunction=pyddm.LossRobustLikelihood, verbose=False)"
      ]
    },
    {
      "cell_type": "markdown",
      "metadata": {
        "id": "krkTgMZebYo6"
      },
      "source": [
        "### c) (optional) Plot the psychometric and chronometric functions\n",
        "The psychometric function shows the coherence/evidence on the x axis and the probability of a correct response on the y axis.  Likewise, the chronometric function shows the coherence/evidence on the x axis and the mean RT of correct responses on the y axis.\n",
        "\n",
        "Hint: PyDDM model Solutions (the output of m.solve()) have a prob(\"correct\") and prob(\"error\") methods, as well as mean_decision_time() function.\n",
        "\n",
        "Hint 2: PyDDM Samples have these methods too!  You might also want to use the \"subset\" method."
      ]
    },
    {
      "cell_type": "code",
      "execution_count": null,
      "metadata": {
        "colab": {
          "base_uri": "https://localhost:8080/",
          "height": 611
        },
        "id": "W-y2qwzlbYo7",
        "outputId": "d906f7af-1323-4a59-f386-d8917b24f1a9"
      },
      "outputs": [
        {
          "output_type": "stream",
          "name": "stderr",
          "text": [
            "Warning: This function (prob_correct()) is deprecated and will be removed in a future version of PyDDM.  Please use Solution.prob('correct') instead.\n",
            "Warning:pyddm:This function (prob_correct()) is deprecated and will be removed in a future version of PyDDM.  Please use Solution.prob('correct') instead.\n",
            "Warning: This function (prob_correct()) is deprecated and will be removed in a future version of PyDDM.  Please use Solution.prob('correct') instead.\n",
            "Warning:pyddm:This function (prob_correct()) is deprecated and will be removed in a future version of PyDDM.  Please use Solution.prob('correct') instead.\n",
            "Warning: This function (prob_correct()) is deprecated and will be removed in a future version of PyDDM.  Please use Solution.prob('correct') instead.\n",
            "Warning:pyddm:This function (prob_correct()) is deprecated and will be removed in a future version of PyDDM.  Please use Solution.prob('correct') instead.\n",
            "Warning: This function (prob_correct()) is deprecated and will be removed in a future version of PyDDM.  Please use Solution.prob('correct') instead.\n",
            "Warning:pyddm:This function (prob_correct()) is deprecated and will be removed in a future version of PyDDM.  Please use Solution.prob('correct') instead.\n",
            "Warning: This function (prob_correct()) is deprecated and will be removed in a future version of PyDDM.  Please use Solution.prob('correct') instead.\n",
            "Warning:pyddm:This function (prob_correct()) is deprecated and will be removed in a future version of PyDDM.  Please use Solution.prob('correct') instead.\n",
            "Warning: This function (prob_correct()) is deprecated and will be removed in a future version of PyDDM.  Please use Solution.prob('correct') instead.\n",
            "Warning:pyddm:This function (prob_correct()) is deprecated and will be removed in a future version of PyDDM.  Please use Solution.prob('correct') instead.\n"
          ]
        },
        {
          "output_type": "display_data",
          "data": {
            "text/plain": [
              "<Figure size 800x400 with 2 Axes>"
            ],
            "image/png": "[encoded data removed]"
          },
          "metadata": {}
        }
      ],
      "source": [
        "coherences = sorted(sample.condition_values('coh'))\n",
        "psychometric_model = [m.solve(conditions={\"coh\": coh}).prob(\"correct\") for coh in coherences]\n",
        "psychometric_sample = [sample.subset(coh=coh).prob(\"correct\") for coh in coherences]\n",
        "chronometric_model = [m.solve(conditions={\"coh\": coh}).mean_decision_time() for coh in coherences]\n",
        "chronometric_sample = [sample.subset(coh=coh).mean_decision_time() for coh in coherences]\n",
        "plt.figure(figsize=(8,4))\n",
        "plt.subplot(1,2,1)\n",
        "plt.plot(coherences, psychometric_sample, label=\"Sample\")\n",
        "plt.plot(coherences, psychometric_model, label=\"Model\")\n",
        "plt.title(\"Psychometric function\")\n",
        "plt.xlabel(\"Coherence\")\n",
        "plt.ylabel(\"P(correct)\")\n",
        "plt.legend()\n",
        "plt.subplot(1,2,2)\n",
        "plt.plot(coherences, chronometric_sample, label=\"Sample\")\n",
        "plt.plot(coherences, chronometric_model, label=\"Model\")\n",
        "plt.title(\"Chronometric function\")\n",
        "plt.xlabel(\"Coherence\")\n",
        "plt.ylabel(\"Mean RT\")\n",
        "plt.legend()\n",
        "plt.tight_layout()"
      ]
    },
    {
      "cell_type": "markdown",
      "metadata": {
        "id": "7HApuwbZbYo7"
      },
      "source": [
        "### d) Adding an explicit model of lapse rate\n",
        "What happens if the subject responds during the non-decision time?  Well, in theory, the model should give a likelihood of zero, and hence, a negative log likelihood of infinity.  (More generally, if there is even one \"outlier\" response at a time when the model predicts there should be none, this will have a large effect on the model.)  But when you look at our data, there are indeed a few responses during the non-decision time.  So why is the likelihood finite?\n",
        "\n",
        "It is finite because we have been cheating a bit.  Notice how when we fit the model previously, we used \"Robust Likelihood\".  What robust likelihood does is add a small constant offset to the likelihood of each point before taking the logarithm.  Is this best practice?  No, but lots of people still do it.  So let's properly model the lapse trials in addition to the actual trials.\n",
        "\n",
        "We do this using a mixture model.  We assume that X% of trials are generated by the DDM, and (100-X)% of trials are generated by some other process, for example, an evidence-independent probability distribution.  The two best choices to use for this are a uniform distribution, which assumes lapse trials are equally likely at any point in the trial, or an exponential distribution, which assumes lapse trials come from a poisson distribution (a flat hazard).\n",
        "\n",
        "We implement mixture models in PyDDM using an overlay.  However, since we are already using an overlay for non-decision time, we need to chain overlays together using pyddm.OverlayChain.  This can be used as follows:\n",
        "\n",
        "```\n",
        "overlay=pyddm.OverlayChain(overlays=[overlay1, overlay2]),\n",
        "```\n",
        "\n",
        "where \"overlay1\" and \"overlay2\" are overlays.  See [the PyDDM documentation](https://pyddm.readthedocs.io/en/latest/apidoc/dependences.html#module-ddm.models.overlay) for a list of all overlays included by default.  Once you are using a mixture model to account for lapse/outlier responses, you can change the loss function from \"LossRobustLikelihood\" to \"LossLikelihood\".\n",
        "\n",
        "Below, modify our model to use an error distribution with a uniform distribution.  Use a fittable mixture ratio."
      ]
    },
    {
      "cell_type": "code",
      "execution_count": null,
      "metadata": {
        "id": "KVYfSRFUbYo8"
      },
      "outputs": [],
      "source": [
        "m = pyddm.Model(drift=DriftCoherence(drift=pyddm.Fittable(minval=-20, maxval=20)),\n",
        "                noise=pyddm.NoiseConstant(noise=pyddm.Fittable(minval=.1, maxval=2)),\n",
        "                overlay=pyddm.OverlayChain(overlays=[pyddm.OverlayNonDecision(nondectime=pyddm.Fittable(minval=0, maxval=.5)),\n",
        "                        pyddm.OverlayUniformMixture(umixturecoef=pyddm.Fittable(minval=.01, maxval=.5))]))\n",
        "\n",
        "pyddm.plot.model_gui_jupyter(model=m, sample=sample)"
      ]
    },
    {
      "cell_type": "markdown",
      "metadata": {
        "id": "RybExHpybYo8"
      },
      "source": [
        "# 5. *(optional)* Generalized drift-diffusion models\n",
        "Generalized drift-diffusion models (GDDMs) allow going beyond the standard model parameters of the DDM.  Instead of drift, noise, and bound being fixed values, GDDMs allow them to be functions which may vary across time.  For example, this allows modelling tasks which have evidence that changes over time.  It also allows these to have complex, non-linear relationships with any number of task conditions and use any number of parameters.  For example, it is possible to model multisensory integration, with different streams of evidence contributing non-linearly to drift rate.  Furthermore, it also allows integration to be leaky (i.e. forgetting) or unstable (i.e. biasing early evidence), as well as representing an urgency signal (e.g. bounds which collapse over time).  There is evidence that these model properties are useful for modelling RTs in overtrained human or animal subjects.\n",
        "\n",
        "All of these exercises are optional and do not depend on each other - feel free to skip around and do those which are of greatest interest."
      ]
    },
    {
      "cell_type": "markdown",
      "metadata": {
        "id": "edtSRysWbYo8"
      },
      "source": [
        "### a) Collapsing boundaries\n",
        "Sometimes, especially in the case of overtrained animals, more evidence may be needed to make a decision earlier in the trial compared to later in the trial.  Construct, visualise, and fit a model with linearly collapsing boundaries to the data from (3).  It might take a bit longer to fit."
      ]
    },
    {
      "cell_type": "code",
      "execution_count": null,
      "metadata": {
        "id": "PsGEs7cmbYo9"
      },
      "outputs": [],
      "source": [
        "m = pyddm.Model(drift=DriftCoherence(drift=pyddm.Fittable(minval=-20, maxval=20)),\n",
        "                noise=pyddm.NoiseConstant(noise=pyddm.Fittable(minval=.1, maxval=2)),\n",
        "                overlay=pyddm.OverlayNonDecision(nondectime=pyddm.Fittable(minval=0, maxval=.5)),\n",
        "                bound=pyddm.BoundCollapsingExponential(B=1, tau=pyddm.Fittable(minval=.01, maxval=3)))\n",
        "\n",
        "pyddm.plot.model_gui_jupyter(model=m, sample=sample)"
      ]
    },
    {
      "cell_type": "code",
      "execution_count": null,
      "metadata": {
        "id": "IS4CrJfabYo9"
      },
      "outputs": [],
      "source": [
        "pyddm.fit_adjust_model(model=m, sample=sample, lossfunction=pyddm.LossRobustLikelihood, verbose=False)"
      ]
    },
    {
      "cell_type": "markdown",
      "metadata": {
        "id": "_gAbfKXpbYo9"
      },
      "source": [
        "### b) Leaky integration\n",
        "Leaky integration occurs when the decision variable is constantly being pushed back to zero (a stable fixed point at zero).  This models forgetting, or alternatively, prioritising more recent evidence.  This is implemented in the model by making the drift rate depend on the position of the particle at any given time.  Construct and visualise a leaky integration model by modifying the DriftCoherence model above.  You do not need to fit it to data, since this may take a few minutes (and can be done the same way as all the above examples).  Note that leak can be negative: this is also called \"unstable integration\"."
      ]
    },
    {
      "cell_type": "code",
      "execution_count": null,
      "metadata": {
        "id": "U-xwHdSgbYo9"
      },
      "outputs": [],
      "source": [
        "class DriftCoherenceLeaky(pyddm.Drift):\n",
        "    name = \"Drift linearly depending on coherence\"\n",
        "    required_conditions = [\"coh\"] # This is from the Roitman-Shadlen dataset\n",
        "    required_parameters = [\"drift\", \"leak\"] # We can name these parameters anything we want\n",
        "    def get_drift(self, t, x, conditions, **kwargs):\n",
        "        return conditions['coh'] * self.drift - x * self.leak\n",
        "\n",
        "m = pyddm.Model(drift=DriftCoherenceLeaky(drift=pyddm.Fittable(minval=-20, maxval=20), leak=pyddm.Fittable(minval=-2, maxval=2)),\n",
        "                noise=pyddm.NoiseConstant(noise=pyddm.Fittable(minval=.1, maxval=2)),\n",
        "                overlay=pyddm.OverlayNonDecision(nondectime=pyddm.Fittable(minval=0, maxval=.5)))\n",
        "\n",
        "pyddm.plot.model_gui_jupyter(model=m, sample=sample)"
      ]
    },
    {
      "cell_type": "markdown",
      "metadata": {
        "id": "geDns6uqbYo9"
      },
      "source": [
        "### c) Side bias\n",
        "In our dataset, we also have information about which side the monkey chose to get the correct answer (\"trgchoice\" in the Roitman dataset, which has values \"1\" or \"2\").  Let's use a GDDM to implement a side bias.\n",
        "\n",
        "There are two common ways to implement a side bias.  The first is to assume that the biased side causes a constant offset bias on the drift rate.  So, in the 0% coherence condition, the drift rate will be towards the biased side.  Likewise, in a strong evidence condition, the drift rate will be stronger if it is on the same side as the bias.  This can be implemented by adding \"trgchoice\" as a \"required_condition\" to the drift rate and a parameter \"side_bias\" to describe the magnitude of the bias.  Then, when computing the drift function, add \"side_bias\" to the result if it is on the preferred side, and otherwise, subtract \"side_bias\"."
      ]
    },
    {
      "cell_type": "code",
      "execution_count": null,
      "metadata": {
        "id": "qkLNubj2bYo9"
      },
      "outputs": [],
      "source": [
        "class DriftCoherenceSideBias(pyddm.Drift):\n",
        "    name = \"Drift depending on coherence with a side bias\"\n",
        "    required_conditions = [\"coh\", \"trgchoice\"] # This is from the Roitman-Shadlen dataset\n",
        "    required_parameters = [\"drift\", \"side_bias\"] # We can name this parameter anything we want\n",
        "    def get_drift(self, t, x, conditions, **kwargs):\n",
        "        # Positive for side 1, negative for side 2\n",
        "        bias = self.side_bias * (1 if conditions[\"trgchoice\"] == 1 else -1)\n",
        "        return conditions['coh'] * self.drift + bias\n",
        "\n",
        "m = pyddm.Model(drift=DriftCoherenceSideBias(drift=pyddm.Fittable(minval=-20, maxval=20),\n",
        "                                             side_bias=pyddm.Fittable(minval=-10, maxval=10)),\n",
        "          noise=pyddm.NoiseConstant(noise=pyddm.Fittable(minval=.1, maxval=2)),\n",
        "          overlay=pyddm.OverlayNonDecision(nondectime=pyddm.Fittable(minval=0, maxval=.5)))\n",
        "\n",
        "pyddm.plot.model_gui_jupyter(model=m, sample=sample)"
      ]
    },
    {
      "cell_type": "markdown",
      "metadata": {
        "id": "BV17EK16bYo-"
      },
      "source": [
        "The other way is to assume that there is an offset in the starting position: instead of starting at zero, we start at some other point.  To do this, we need to implement a new InitialConditions, which takes the side as a condition and a parameter x0 of the magnitude of the bias.  Then, it returns a probability distribution where all the density is in a single point: the point x0 for one side, or -x0 for the other side.\n",
        "\n",
        "See the [PyDDM documentation](https://pyddm.readthedocs.io/en/stable/cookbook/initialconditions.html#biased-initial-conditions) for an example."
      ]
    },
    {
      "cell_type": "code",
      "execution_count": null,
      "metadata": {
        "id": "jTku14NlbYo-"
      },
      "outputs": [],
      "source": [
        "class ICPointSideBias(pyddm.InitialCondition):\n",
        "    name = \"A starting point with a left or right bias.\"\n",
        "    required_parameters = [\"x0\"]\n",
        "    required_conditions = [\"trgchoice\"]\n",
        "    def get_IC(self, x, dx, conditions):\n",
        "        start = np.round(self.x0/dx)\n",
        "        # Positive bias for choices to side 1, negative for side 2\n",
        "        if conditions['trgchoice'] == 2:\n",
        "            start = -start\n",
        "        shift_i = int(start + (len(x)-1)/2)\n",
        "        assert shift_i >= 0 and shift_i < len(x), \"Invalid initial conditions\"\n",
        "        pdf = np.zeros(len(x))\n",
        "        pdf[shift_i] = 1. # Initial condition at x=self.x0.\n",
        "        return pdf\n",
        "\n",
        "m = pyddm.Model(drift=DriftCoherence(drift=pyddm.Fittable(minval=-20, maxval=20)),\n",
        "          noise=pyddm.NoiseConstant(noise=pyddm.Fittable(minval=.1, maxval=2)),\n",
        "          IC=ICPointSideBias(x0=pyddm.Fittable(minval=-.8, maxval=.8)),\n",
        "          overlay=pyddm.OverlayNonDecision(nondectime=pyddm.Fittable(minval=0, maxval=.5)))\n",
        "\n",
        "pyddm.plot.model_gui_jupyter(model=m, sample=sample)"
      ]
    },
    {
      "cell_type": "markdown",
      "metadata": {
        "id": "OKsK1tNrbYo-"
      },
      "source": [
        "### d) Distributions of starting positions and non-decision time\n",
        "Suppose that, instead of starting at the position 0, the starting position of the integrator was pulled from a uniform distribution (where the size is a fittable parameter), and the non-decision time is pulled from a gamma distribution with fittable rate and shape parameters.\n",
        "\n",
        "Hint: PyDDM has built-in an OverlayNonDecisionGamma, as well an ICRange which may be helpful."
      ]
    },
    {
      "cell_type": "code",
      "execution_count": null,
      "metadata": {
        "scrolled": true,
        "id": "SqsHnAdcbYo-"
      },
      "outputs": [],
      "source": [
        "m = pyddm.Model(drift=DriftCoherence(drift=pyddm.Fittable(minval=-20, maxval=20)),\n",
        "                noise=pyddm.NoiseConstant(noise=pyddm.Fittable(minval=.1, maxval=2)),\n",
        "                overlay=pyddm.OverlayNonDecisionGamma(nondectime=pyddm.Fittable(minval=0, maxval=.5), shape=pyddm.Fittable(minval=1, maxval=2.5), scale=pyddm.Fittable(minval=0.01, maxval=1)),\n",
        "                IC=pyddm.ICRange(sz=pyddm.Fittable(minval=0, maxval=.9)))\n",
        "\n",
        "pyddm.plot.model_gui_jupyter(model=m, sample=sample)"
      ]
    },
    {
      "cell_type": "markdown",
      "metadata": {
        "id": "vyb5uMU-bYo-"
      },
      "source": [
        "### e) Evidence which changes over time\n",
        "Evidence is not always the same over time.  For instance, many tasks present discrete pulses of evidence.  Others may have evidence which is constantly fluctuating (e.g. changes in motion energy).\n",
        "\n",
        "To mode this in PyDDM, we need to create a custom Drift object, as we did above.  But this time, the get_drift function should use the \"t\" function argument.\n",
        "\n",
        "Model a situation where we have two pulses of evidence, the first lasting from time 0.3 s to 0.6 s, and the second from 1.0 to 1.2 s.  Let the magnitude of each be given by the conditions \"pulse1\" and \"pulse2\".  Play with this model in the model_gui."
      ]
    },
    {
      "cell_type": "code",
      "execution_count": null,
      "metadata": {
        "id": "avAKg8iabYo-"
      },
      "outputs": [],
      "source": [
        "import pyddm\n",
        "import pyddm.plot\n",
        "import numpy as np\n",
        "class DriftPulses(pyddm.Drift):\n",
        "    name = \"Drift with two pulses\"\n",
        "    required_parameters = [\"drift\"]\n",
        "    required_conditions = [\"pulse1\", \"pulse2\"]\n",
        "    def get_drift(self, t, x, conditions, **_):\n",
        "        if t > .3 and t <= .6:\n",
        "            return self.drift * conditions['pulse1']\n",
        "        elif t > 1.0 and t <= 1.2:\n",
        "            return self.drift * conditions[\"pulse2\"]\n",
        "        else:\n",
        "            return 0\n",
        "\n",
        "m = pyddm.Model(drift=DriftPulses(drift=pyddm.Fittable(minval=0, maxval=20)),\n",
        "          noise=pyddm.NoiseConstant(noise=pyddm.Fittable(minval=.1, maxval=2)),\n",
        "          overlay=pyddm.OverlayNonDecision(nondectime=pyddm.Fittable(minval=0, maxval=.5)))\n",
        "\n",
        "pyddm.plot.model_gui_jupyter(m, conditions={\"pulse1\": [0, .2, .4, .6], \"pulse2\": [0, .2, .4, .6]})"
      ]
    }
  ],
  "metadata": {
    "kernelspec": {
      "display_name": "Python 3 (ipykernel)",
      "language": "python",
      "name": "python3"
    },
    "language_info": {
      "codemirror_mode": {
        "name": "ipython",
        "version": 3
      },
      "file_extension": ".py",
      "mimetype": "text/x-python",
      "name": "python",
      "nbconvert_exporter": "python",
      "pygments_lexer": "ipython3",
      "version": "3.9.0"
    },
    "colab": {
      "provenance": []
    },
    "widgets": {
      "application/vnd.jupyter.widget-state+json": {
        "b9af5ab879ae4f5fafcc3416453b0a29": {
          "model_module": "@jupyter-widgets/controls",
          "model_name": "HBoxModel",
          "model_module_version": "1.5.0",
          "state": {
            "_dom_classes": [],
            "_model_module": "@jupyter-widgets/controls",
            "_model_module_version": "1.5.0",
            "_model_name": "HBoxModel",
            "_view_count": null,
            "_view_module": "@jupyter-widgets/controls",
            "_view_module_version": "1.5.0",
            "_view_name": "HBoxView",
            "box_style": "",
            "children": [
              "IPY_MODEL_61f21e39962c4f5ca2f12c3c6ea7845f",
              "IPY_MODEL_56bcf74446a947b193a1eb566292cd21",
              "IPY_MODEL_36c81085b9db499ba239cab9f75702ab"
            ],
            "layout": "IPY_MODEL_1d30903a68474bf29a3e9abf188c891e"
          }
        },
        "61f21e39962c4f5ca2f12c3c6ea7845f": {
          "model_module": "@jupyter-widgets/controls",
          "model_name": "VBoxModel",
          "model_module_version": "1.5.0",
          "state": {
            "_dom_classes": [],
            "_model_module": "@jupyter-widgets/controls",
            "_model_module_version": "1.5.0",
            "_model_name": "VBoxModel",
            "_view_count": null,
            "_view_module": "@jupyter-widgets/controls",
            "_view_module_version": "1.5.0",
            "_view_name": "VBoxView",
            "box_style": "",
            "children": [
              "IPY_MODEL_8d4dc8872f014c8bb1eed6e8bc616e0a",
              "IPY_MODEL_a8c9abf977f643678a5c8f7e41e8d03d",
              "IPY_MODEL_31ef4abf62954249a7e38f41ee96e6c4",
              "IPY_MODEL_e3201313fa6f4ab792faa6f4de5dda66"
            ],
            "layout": "IPY_MODEL_a9a9246457c947faa0069453e0cd338b"
          }
        },
        "56bcf74446a947b193a1eb566292cd21": {
          "model_module": "@jupyter-widgets/controls",
          "model_name": "VBoxModel",
          "model_module_version": "1.5.0",
          "state": {
            "_dom_classes": [],
            "_model_module": "@jupyter-widgets/controls",
            "_model_module_version": "1.5.0",
            "_model_name": "VBoxModel",
            "_view_count": null,
            "_view_module": "@jupyter-widgets/controls",
            "_view_module_version": "1.5.0",
            "_view_name": "VBoxView",
            "box_style": "",
            "children": [],
            "layout": "IPY_MODEL_afb82f89f0604171ab12a1061fc1e62d"
          }
        },
        "36c81085b9db499ba239cab9f75702ab": {
          "model_module": "@jupyter-widgets/controls",
          "model_name": "VBoxModel",
          "model_module_version": "1.5.0",
          "state": {
            "_dom_classes": [],
            "_model_module": "@jupyter-widgets/controls",
            "_model_module_version": "1.5.0",
            "_model_name": "VBoxModel",
            "_view_count": null,
            "_view_module": "@jupyter-widgets/controls",
            "_view_module_version": "1.5.0",
            "_view_name": "VBoxView",
            "box_style": "",
            "children": [
              "IPY_MODEL_4ffd1d282a8241128d225844b32f9cab",
              "IPY_MODEL_5bc9cd2561304d539aa465fddf40ed6d",
              "IPY_MODEL_859c6ed2edfd46f199c914aaba417cb8"
            ],
            "layout": "IPY_MODEL_ef9a36758dff4028be6c547e2185c6d5"
          }
        },
        "1d30903a68474bf29a3e9abf188c891e": {
          "model_module": "@jupyter-widgets/base",
          "model_name": "LayoutModel",
          "model_module_version": "1.2.0",
          "state": {
            "_model_module": "@jupyter-widgets/base",
            "_model_module_version": "1.2.0",
            "_model_name": "LayoutModel",
            "_view_count": null,
            "_view_module": "@jupyter-widgets/base",
            "_view_module_version": "1.2.0",
            "_view_name": "LayoutView",
            "align_content": null,
            "align_items": null,
            "align_self": null,
            "border": null,
            "bottom": null,
            "display": null,
            "flex": null,
            "flex_flow": null,
            "grid_area": null,
            "grid_auto_columns": null,
            "grid_auto_flow": null,
            "grid_auto_rows": null,
            "grid_column": null,
            "grid_gap": null,
            "grid_row": null,
            "grid_template_areas": null,
            "grid_template_columns": null,
            "grid_template_rows": null,
            "height": null,
            "justify_content": null,
            "justify_items": null,
            "left": null,
            "margin": null,
            "max_height": null,
            "max_width": null,
            "min_height": null,
            "min_width": null,
            "object_fit": null,
            "object_position": null,
            "order": null,
            "overflow": null,
            "overflow_x": null,
            "overflow_y": null,
            "padding": null,
            "right": null,
            "top": null,
            "visibility": null,
            "width": null
          }
        },
        "8d4dc8872f014c8bb1eed6e8bc616e0a": {
          "model_module": "@jupyter-widgets/controls",
          "model_name": "FloatSliderModel",
          "model_module_version": "1.5.0",
          "state": {
            "_dom_classes": [],
            "_model_module": "@jupyter-widgets/controls",
            "_model_module_version": "1.5.0",
            "_model_name": "FloatSliderModel",
            "_view_count": null,
            "_view_module": "@jupyter-widgets/controls",
            "_view_module_version": "1.5.0",
            "_view_name": "FloatSliderView",
            "continuous_update": false,
            "description": "drift",
            "description_tooltip": null,
            "disabled": false,
            "layout": "IPY_MODEL_4520d5fac6d94f3290996e2eb551a406",
            "max": 2,
            "min": -2,
            "orientation": "horizontal",
            "readout": true,
            "readout_format": ".2f",
            "step": 0.04,
            "style": "IPY_MODEL_6b1f7c32fb72490e8bb58624fed575fa",
            "value": 0.5
          }
        },
        "a8c9abf977f643678a5c8f7e41e8d03d": {
          "model_module": "@jupyter-widgets/controls",
          "model_name": "FloatSliderModel",
          "model_module_version": "1.5.0",
          "state": {
            "_dom_classes": [],
            "_model_module": "@jupyter-widgets/controls",
            "_model_module_version": "1.5.0",
            "_model_name": "FloatSliderModel",
            "_view_count": null,
            "_view_module": "@jupyter-widgets/controls",
            "_view_module_version": "1.5.0",
            "_view_name": "FloatSliderView",
            "continuous_update": false,
            "description": "noise",
            "description_tooltip": null,
            "disabled": false,
            "layout": "IPY_MODEL_1e84964f3a41461799debb8dd89a26fb",
            "max": 1,
            "min": 0.1,
            "orientation": "horizontal",
            "readout": true,
            "readout_format": ".2f",
            "step": 0.009000000000000001,
            "style": "IPY_MODEL_d15ca6da3c444e7eabec482d80630e00",
            "value": 0.8
          }
        },
        "31ef4abf62954249a7e38f41ee96e6c4": {
          "model_module": "@jupyter-widgets/controls",
          "model_name": "FloatSliderModel",
          "model_module_version": "1.5.0",
          "state": {
            "_dom_classes": [],
            "_model_module": "@jupyter-widgets/controls",
            "_model_module_version": "1.5.0",
            "_model_name": "FloatSliderModel",
            "_view_count": null,
            "_view_module": "@jupyter-widgets/controls",
            "_view_module_version": "1.5.0",
            "_view_name": "FloatSliderView",
            "continuous_update": false,
            "description": "B",
            "description_tooltip": null,
            "disabled": false,
            "layout": "IPY_MODEL_b7f35cbccda94dc488bb4910e2a51e9e",
            "max": 1.5,
            "min": 0.3,
            "orientation": "horizontal",
            "readout": true,
            "readout_format": ".2f",
            "step": 0.012,
            "style": "IPY_MODEL_f9bbe9a8d3ff4b788ec4a304818f4e4c",
            "value": 1.2
          }
        },
        "e3201313fa6f4ab792faa6f4de5dda66": {
          "model_module": "@jupyter-widgets/controls",
          "model_name": "FloatSliderModel",
          "model_module_version": "1.5.0",
          "state": {
            "_dom_classes": [],
            "_model_module": "@jupyter-widgets/controls",
            "_model_module_version": "1.5.0",
            "_model_name": "FloatSliderModel",
            "_view_count": null,
            "_view_module": "@jupyter-widgets/controls",
            "_view_module_version": "1.5.0",
            "_view_name": "FloatSliderView",
            "continuous_update": false,
            "description": "nondectime",
            "description_tooltip": null,
            "disabled": false,
            "layout": "IPY_MODEL_1cc4e0a498454ae890ea0cd4772f5b12",
            "max": 0.5,
            "min": 0,
            "orientation": "horizontal",
            "readout": true,
            "readout_format": ".2f",
            "step": 0.005,
            "style": "IPY_MODEL_3507e7d9ee5f4c348439e5c0a6d49843",
            "value": 0.3
          }
        },
        "a9a9246457c947faa0069453e0cd338b": {
          "model_module": "@jupyter-widgets/base",
          "model_name": "LayoutModel",
          "model_module_version": "1.2.0",
          "state": {
            "_model_module": "@jupyter-widgets/base",
            "_model_module_version": "1.2.0",
            "_model_name": "LayoutModel",
            "_view_count": null,
            "_view_module": "@jupyter-widgets/base",
            "_view_module_version": "1.2.0",
            "_view_name": "LayoutView",
            "align_content": null,
            "align_items": null,
            "align_self": null,
            "border": null,
            "bottom": null,
            "display": null,
            "flex": null,
            "flex_flow": null,
            "grid_area": null,
            "grid_auto_columns": null,
            "grid_auto_flow": null,
            "grid_auto_rows": null,
            "grid_column": null,
            "grid_gap": null,
            "grid_row": null,
            "grid_template_areas": null,
            "grid_template_columns": null,
            "grid_template_rows": null,
            "height": null,
            "justify_content": null,
            "justify_items": null,
            "left": null,
            "margin": null,
            "max_height": null,
            "max_width": null,
            "min_height": null,
            "min_width": null,
            "object_fit": null,
            "object_position": null,
            "order": null,
            "overflow": null,
            "overflow_x": null,
            "overflow_y": null,
            "padding": null,
            "right": null,
            "top": null,
            "visibility": null,
            "width": null
          }
        },
        "afb82f89f0604171ab12a1061fc1e62d": {
          "model_module": "@jupyter-widgets/base",
          "model_name": "LayoutModel",
          "model_module_version": "1.2.0",
          "state": {
            "_model_module": "@jupyter-widgets/base",
            "_model_module_version": "1.2.0",
            "_model_name": "LayoutModel",
            "_view_count": null,
            "_view_module": "@jupyter-widgets/base",
            "_view_module_version": "1.2.0",
            "_view_name": "LayoutView",
            "align_content": null,
            "align_items": null,
            "align_self": null,
            "border": null,
            "bottom": null,
            "display": null,
            "flex": null,
            "flex_flow": null,
            "grid_area": null,
            "grid_auto_columns": null,
            "grid_auto_flow": null,
            "grid_auto_rows": null,
            "grid_column": null,
            "grid_gap": null,
            "grid_row": null,
            "grid_template_areas": null,
            "grid_template_columns": null,
            "grid_template_rows": null,
            "height": null,
            "justify_content": null,
            "justify_items": null,
            "left": null,
            "margin": null,
            "max_height": null,
            "max_width": null,
            "min_height": null,
            "min_width": null,
            "object_fit": null,
            "object_position": null,
            "order": null,
            "overflow": null,
            "overflow_x": null,
            "overflow_y": null,
            "padding": null,
            "right": null,
            "top": null,
            "visibility": null,
            "width": null
          }
        },
        "4ffd1d282a8241128d225844b32f9cab": {
          "model_module": "@jupyter-widgets/controls",
          "model_name": "CheckboxModel",
          "model_module_version": "1.5.0",
          "state": {
            "_dom_classes": [],
            "_model_module": "@jupyter-widgets/controls",
            "_model_module_version": "1.5.0",
            "_model_name": "CheckboxModel",
            "_view_count": null,
            "_view_module": "@jupyter-widgets/controls",
            "_view_module_version": "1.5.0",
            "_view_name": "CheckboxView",
            "description": "Real-time",
            "description_tooltip": null,
            "disabled": false,
            "indent": true,
            "layout": "IPY_MODEL_b6feb2c3696049e692efdd335e0b1910",
            "style": "IPY_MODEL_eea5df88708e42b08d25a5ca3586383f",
            "value": true
          }
        },
        "5bc9cd2561304d539aa465fddf40ed6d": {
          "model_module": "@jupyter-widgets/controls",
          "model_name": "ButtonModel",
          "model_module_version": "1.5.0",
          "state": {
            "_dom_classes": [],
            "_model_module": "@jupyter-widgets/controls",
            "_model_module_version": "1.5.0",
            "_model_name": "ButtonModel",
            "_view_count": null,
            "_view_module": "@jupyter-widgets/controls",
            "_view_module_version": "1.5.0",
            "_view_name": "ButtonView",
            "button_style": "",
            "description": "Reset to defaults",
            "disabled": false,
            "icon": "",
            "layout": "IPY_MODEL_acc9698863ff4cbe84148c00f443c47e",
            "style": "IPY_MODEL_bb7844fa7d6d42a88b2cbf2cadc93c82",
            "tooltip": ""
          }
        },
        "859c6ed2edfd46f199c914aaba417cb8": {
          "model_module": "@jupyter-widgets/controls",
          "model_name": "ToggleButtonModel",
          "model_module_version": "1.5.0",
          "state": {
            "_dom_classes": [],
            "_model_module": "@jupyter-widgets/controls",
            "_model_module_version": "1.5.0",
            "_model_name": "ToggleButtonModel",
            "_view_count": null,
            "_view_module": "@jupyter-widgets/controls",
            "_view_module_version": "1.5.0",
            "_view_name": "ToggleButtonView",
            "button_style": "",
            "description": "Update",
            "description_tooltip": null,
            "disabled": false,
            "icon": "",
            "layout": "IPY_MODEL_d234eb84cde44a62a39bf3e49b1e3d05",
            "style": "IPY_MODEL_25e675726df5473794a261c8f21affcb",
            "tooltip": "",
            "value": false
          }
        },
        "ef9a36758dff4028be6c547e2185c6d5": {
          "model_module": "@jupyter-widgets/base",
          "model_name": "LayoutModel",
          "model_module_version": "1.2.0",
          "state": {
            "_model_module": "@jupyter-widgets/base",
            "_model_module_version": "1.2.0",
            "_model_name": "LayoutModel",
            "_view_count": null,
            "_view_module": "@jupyter-widgets/base",
            "_view_module_version": "1.2.0",
            "_view_name": "LayoutView",
            "align_content": null,
            "align_items": null,
            "align_self": null,
            "border": null,
            "bottom": null,
            "display": null,
            "flex": null,
            "flex_flow": null,
            "grid_area": null,
            "grid_auto_columns": null,
            "grid_auto_flow": null,
            "grid_auto_rows": null,
            "grid_column": null,
            "grid_gap": null,
            "grid_row": null,
            "grid_template_areas": null,
            "grid_template_columns": null,
            "grid_template_rows": null,
            "height": null,
            "justify_content": null,
            "justify_items": null,
            "left": null,
            "margin": null,
            "max_height": null,
            "max_width": null,
            "min_height": null,
            "min_width": null,
            "object_fit": null,
            "object_position": null,
            "order": null,
            "overflow": null,
            "overflow_x": null,
            "overflow_y": null,
            "padding": null,
            "right": null,
            "top": null,
            "visibility": null,
            "width": null
          }
        },
        "4520d5fac6d94f3290996e2eb551a406": {
          "model_module": "@jupyter-widgets/base",
          "model_name": "LayoutModel",
          "model_module_version": "1.2.0",
          "state": {
            "_model_module": "@jupyter-widgets/base",
            "_model_module_version": "1.2.0",
            "_model_name": "LayoutModel",
            "_view_count": null,
            "_view_module": "@jupyter-widgets/base",
            "_view_module_version": "1.2.0",
            "_view_name": "LayoutView",
            "align_content": null,
            "align_items": null,
            "align_self": null,
            "border": null,
            "bottom": null,
            "display": null,
            "flex": null,
            "flex_flow": null,
            "grid_area": null,
            "grid_auto_columns": null,
            "grid_auto_flow": null,
            "grid_auto_rows": null,
            "grid_column": null,
            "grid_gap": null,
            "grid_row": null,
            "grid_template_areas": null,
            "grid_template_columns": null,
            "grid_template_rows": null,
            "height": null,
            "justify_content": null,
            "justify_items": null,
            "left": null,
            "margin": null,
            "max_height": null,
            "max_width": null,
            "min_height": null,
            "min_width": null,
            "object_fit": null,
            "object_position": null,
            "order": null,
            "overflow": null,
            "overflow_x": null,
            "overflow_y": null,
            "padding": null,
            "right": null,
            "top": null,
            "visibility": null,
            "width": null
          }
        },
        "6b1f7c32fb72490e8bb58624fed575fa": {
          "model_module": "@jupyter-widgets/controls",
          "model_name": "SliderStyleModel",
          "model_module_version": "1.5.0",
          "state": {
            "_model_module": "@jupyter-widgets/controls",
            "_model_module_version": "1.5.0",
            "_model_name": "SliderStyleModel",
            "_view_count": null,
            "_view_module": "@jupyter-widgets/base",
            "_view_module_version": "1.2.0",
            "_view_name": "StyleView",
            "description_width": "",
            "handle_color": null
          }
        },
        "1e84964f3a41461799debb8dd89a26fb": {
          "model_module": "@jupyter-widgets/base",
          "model_name": "LayoutModel",
          "model_module_version": "1.2.0",
          "state": {
            "_model_module": "@jupyter-widgets/base",
            "_model_module_version": "1.2.0",
            "_model_name": "LayoutModel",
            "_view_count": null,
            "_view_module": "@jupyter-widgets/base",
            "_view_module_version": "1.2.0",
            "_view_name": "LayoutView",
            "align_content": null,
            "align_items": null,
            "align_self": null,
            "border": null,
            "bottom": null,
            "display": null,
            "flex": null,
            "flex_flow": null,
            "grid_area": null,
            "grid_auto_columns": null,
            "grid_auto_flow": null,
            "grid_auto_rows": null,
            "grid_column": null,
            "grid_gap": null,
            "grid_row": null,
            "grid_template_areas": null,
            "grid_template_columns": null,
            "grid_template_rows": null,
            "height": null,
            "justify_content": null,
            "justify_items": null,
            "left": null,
            "margin": null,
            "max_height": null,
            "max_width": null,
            "min_height": null,
            "min_width": null,
            "object_fit": null,
            "object_position": null,
            "order": null,
            "overflow": null,
            "overflow_x": null,
            "overflow_y": null,
            "padding": null,
            "right": null,
            "top": null,
            "visibility": null,
            "width": null
          }
        },
        "d15ca6da3c444e7eabec482d80630e00": {
          "model_module": "@jupyter-widgets/controls",
          "model_name": "SliderStyleModel",
          "model_module_version": "1.5.0",
          "state": {
            "_model_module": "@jupyter-widgets/controls",
            "_model_module_version": "1.5.0",
            "_model_name": "SliderStyleModel",
            "_view_count": null,
            "_view_module": "@jupyter-widgets/base",
            "_view_module_version": "1.2.0",
            "_view_name": "StyleView",
            "description_width": "",
            "handle_color": null
          }
        },
        "b7f35cbccda94dc488bb4910e2a51e9e": {
          "model_module": "@jupyter-widgets/base",
          "model_name": "LayoutModel",
          "model_module_version": "1.2.0",
          "state": {
            "_model_module": "@jupyter-widgets/base",
            "_model_module_version": "1.2.0",
            "_model_name": "LayoutModel",
            "_view_count": null,
            "_view_module": "@jupyter-widgets/base",
            "_view_module_version": "1.2.0",
            "_view_name": "LayoutView",
            "align_content": null,
            "align_items": null,
            "align_self": null,
            "border": null,
            "bottom": null,
            "display": null,
            "flex": null,
            "flex_flow": null,
            "grid_area": null,
            "grid_auto_columns": null,
            "grid_auto_flow": null,
            "grid_auto_rows": null,
            "grid_column": null,
            "grid_gap": null,
            "grid_row": null,
            "grid_template_areas": null,
            "grid_template_columns": null,
            "grid_template_rows": null,
            "height": null,
            "justify_content": null,
            "justify_items": null,
            "left": null,
            "margin": null,
            "max_height": null,
            "max_width": null,
            "min_height": null,
            "min_width": null,
            "object_fit": null,
            "object_position": null,
            "order": null,
            "overflow": null,
            "overflow_x": null,
            "overflow_y": null,
            "padding": null,
            "right": null,
            "top": null,
            "visibility": null,
            "width": null
          }
        },
        "f9bbe9a8d3ff4b788ec4a304818f4e4c": {
          "model_module": "@jupyter-widgets/controls",
          "model_name": "SliderStyleModel",
          "model_module_version": "1.5.0",
          "state": {
            "_model_module": "@jupyter-widgets/controls",
            "_model_module_version": "1.5.0",
            "_model_name": "SliderStyleModel",
            "_view_count": null,
            "_view_module": "@jupyter-widgets/base",
            "_view_module_version": "1.2.0",
            "_view_name": "StyleView",
            "description_width": "",
            "handle_color": null
          }
        },
        "1cc4e0a498454ae890ea0cd4772f5b12": {
          "model_module": "@jupyter-widgets/base",
          "model_name": "LayoutModel",
          "model_module_version": "1.2.0",
          "state": {
            "_model_module": "@jupyter-widgets/base",
            "_model_module_version": "1.2.0",
            "_model_name": "LayoutModel",
            "_view_count": null,
            "_view_module": "@jupyter-widgets/base",
            "_view_module_version": "1.2.0",
            "_view_name": "LayoutView",
            "align_content": null,
            "align_items": null,
            "align_self": null,
            "border": null,
            "bottom": null,
            "display": null,
            "flex": null,
            "flex_flow": null,
            "grid_area": null,
            "grid_auto_columns": null,
            "grid_auto_flow": null,
            "grid_auto_rows": null,
            "grid_column": null,
            "grid_gap": null,
            "grid_row": null,
            "grid_template_areas": null,
            "grid_template_columns": null,
            "grid_template_rows": null,
            "height": null,
            "justify_content": null,
            "justify_items": null,
            "left": null,
            "margin": null,
            "max_height": null,
            "max_width": null,
            "min_height": null,
            "min_width": null,
            "object_fit": null,
            "object_position": null,
            "order": null,
            "overflow": null,
            "overflow_x": null,
            "overflow_y": null,
            "padding": null,
            "right": null,
            "top": null,
            "visibility": null,
            "width": null
          }
        },
        "3507e7d9ee5f4c348439e5c0a6d49843": {
          "model_module": "@jupyter-widgets/controls",
          "model_name": "SliderStyleModel",
          "model_module_version": "1.5.0",
          "state": {
            "_model_module": "@jupyter-widgets/controls",
            "_model_module_version": "1.5.0",
            "_model_name": "SliderStyleModel",
            "_view_count": null,
            "_view_module": "@jupyter-widgets/base",
            "_view_module_version": "1.2.0",
            "_view_name": "StyleView",
            "description_width": "",
            "handle_color": null
          }
        },
        "b6feb2c3696049e692efdd335e0b1910": {
          "model_module": "@jupyter-widgets/base",
          "model_name": "LayoutModel",
          "model_module_version": "1.2.0",
          "state": {
            "_model_module": "@jupyter-widgets/base",
            "_model_module_version": "1.2.0",
            "_model_name": "LayoutModel",
            "_view_count": null,
            "_view_module": "@jupyter-widgets/base",
            "_view_module_version": "1.2.0",
            "_view_name": "LayoutView",
            "align_content": null,
            "align_items": null,
            "align_self": null,
            "border": null,
            "bottom": null,
            "display": null,
            "flex": null,
            "flex_flow": null,
            "grid_area": null,
            "grid_auto_columns": null,
            "grid_auto_flow": null,
            "grid_auto_rows": null,
            "grid_column": null,
            "grid_gap": null,
            "grid_row": null,
            "grid_template_areas": null,
            "grid_template_columns": null,
            "grid_template_rows": null,
            "height": null,
            "justify_content": null,
            "justify_items": null,
            "left": null,
            "margin": null,
            "max_height": null,
            "max_width": null,
            "min_height": null,
            "min_width": null,
            "object_fit": null,
            "object_position": null,
            "order": null,
            "overflow": null,
            "overflow_x": null,
            "overflow_y": null,
            "padding": null,
            "right": null,
            "top": null,
            "visibility": null,
            "width": null
          }
        },
        "eea5df88708e42b08d25a5ca3586383f": {
          "model_module": "@jupyter-widgets/controls",
          "model_name": "DescriptionStyleModel",
          "model_module_version": "1.5.0",
          "state": {
            "_model_module": "@jupyter-widgets/controls",
            "_model_module_version": "1.5.0",
            "_model_name": "DescriptionStyleModel",
            "_view_count": null,
            "_view_module": "@jupyter-widgets/base",
            "_view_module_version": "1.2.0",
            "_view_name": "StyleView",
            "description_width": ""
          }
        },
        "acc9698863ff4cbe84148c00f443c47e": {
          "model_module": "@jupyter-widgets/base",
          "model_name": "LayoutModel",
          "model_module_version": "1.2.0",
          "state": {
            "_model_module": "@jupyter-widgets/base",
            "_model_module_version": "1.2.0",
            "_model_name": "LayoutModel",
            "_view_count": null,
            "_view_module": "@jupyter-widgets/base",
            "_view_module_version": "1.2.0",
            "_view_name": "LayoutView",
            "align_content": null,
            "align_items": null,
            "align_self": null,
            "border": null,
            "bottom": null,
            "display": null,
            "flex": null,
            "flex_flow": null,
            "grid_area": null,
            "grid_auto_columns": null,
            "grid_auto_flow": null,
            "grid_auto_rows": null,
            "grid_column": null,
            "grid_gap": null,
            "grid_row": null,
            "grid_template_areas": null,
            "grid_template_columns": null,
            "grid_template_rows": null,
            "height": null,
            "justify_content": null,
            "justify_items": null,
            "left": null,
            "margin": null,
            "max_height": null,
            "max_width": null,
            "min_height": null,
            "min_width": null,
            "object_fit": null,
            "object_position": null,
            "order": null,
            "overflow": null,
            "overflow_x": null,
            "overflow_y": null,
            "padding": null,
            "right": null,
            "top": null,
            "visibility": null,
            "width": null
          }
        },
        "bb7844fa7d6d42a88b2cbf2cadc93c82": {
          "model_module": "@jupyter-widgets/controls",
          "model_name": "ButtonStyleModel",
          "model_module_version": "1.5.0",
          "state": {
            "_model_module": "@jupyter-widgets/controls",
            "_model_module_version": "1.5.0",
            "_model_name": "ButtonStyleModel",
            "_view_count": null,
            "_view_module": "@jupyter-widgets/base",
            "_view_module_version": "1.2.0",
            "_view_name": "StyleView",
            "button_color": null,
            "font_weight": ""
          }
        },
        "d234eb84cde44a62a39bf3e49b1e3d05": {
          "model_module": "@jupyter-widgets/base",
          "model_name": "LayoutModel",
          "model_module_version": "1.2.0",
          "state": {
            "_model_module": "@jupyter-widgets/base",
            "_model_module_version": "1.2.0",
            "_model_name": "LayoutModel",
            "_view_count": null,
            "_view_module": "@jupyter-widgets/base",
            "_view_module_version": "1.2.0",
            "_view_name": "LayoutView",
            "align_content": null,
            "align_items": null,
            "align_self": null,
            "border": null,
            "bottom": null,
            "display": null,
            "flex": null,
            "flex_flow": null,
            "grid_area": null,
            "grid_auto_columns": null,
            "grid_auto_flow": null,
            "grid_auto_rows": null,
            "grid_column": null,
            "grid_gap": null,
            "grid_row": null,
            "grid_template_areas": null,
            "grid_template_columns": null,
            "grid_template_rows": null,
            "height": null,
            "justify_content": null,
            "justify_items": null,
            "left": null,
            "margin": null,
            "max_height": null,
            "max_width": null,
            "min_height": null,
            "min_width": null,
            "object_fit": null,
            "object_position": null,
            "order": null,
            "overflow": null,
            "overflow_x": null,
            "overflow_y": null,
            "padding": null,
            "right": null,
            "top": null,
            "visibility": null,
            "width": null
          }
        },
        "25e675726df5473794a261c8f21affcb": {
          "model_module": "@jupyter-widgets/controls",
          "model_name": "DescriptionStyleModel",
          "model_module_version": "1.5.0",
          "state": {
            "_model_module": "@jupyter-widgets/controls",
            "_model_module_version": "1.5.0",
            "_model_name": "DescriptionStyleModel",
            "_view_count": null,
            "_view_module": "@jupyter-widgets/base",
            "_view_module_version": "1.2.0",
            "_view_name": "StyleView",
            "description_width": ""
          }
        },
        "2cbe305081b546439b4104ea845f2b10": {
          "model_module": "@jupyter-widgets/output",
          "model_name": "OutputModel",
          "model_module_version": "1.0.0",
          "state": {
            "_dom_classes": [],
            "_model_module": "@jupyter-widgets/output",
            "_model_module_version": "1.0.0",
            "_model_name": "OutputModel",
            "_view_count": null,
            "_view_module": "@jupyter-widgets/output",
            "_view_module_version": "1.0.0",
            "_view_name": "OutputView",
            "layout": "IPY_MODEL_677a4e2e816a42eb819ae8da85cb6c8e",
            "msg_id": "",
            "outputs": [
              {
                "output_type": "display_data",
                "data": {
                  "text/plain": "<Figure size 640x480 with 2 Axes>",
                  "image/png": "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\n"
                },
                "metadata": {}
              }
            ]
          }
        },
        "677a4e2e816a42eb819ae8da85cb6c8e": {
          "model_module": "@jupyter-widgets/base",
          "model_name": "LayoutModel",
          "model_module_version": "1.2.0",
          "state": {
            "_model_module": "@jupyter-widgets/base",
            "_model_module_version": "1.2.0",
            "_model_name": "LayoutModel",
            "_view_count": null,
            "_view_module": "@jupyter-widgets/base",
            "_view_module_version": "1.2.0",
            "_view_name": "LayoutView",
            "align_content": null,
            "align_items": null,
            "align_self": null,
            "border": null,
            "bottom": null,
            "display": null,
            "flex": null,
            "flex_flow": null,
            "grid_area": null,
            "grid_auto_columns": null,
            "grid_auto_flow": null,
            "grid_auto_rows": null,
            "grid_column": null,
            "grid_gap": null,
            "grid_row": null,
            "grid_template_areas": null,
            "grid_template_columns": null,
            "grid_template_rows": null,
            "height": null,
            "justify_content": null,
            "justify_items": null,
            "left": null,
            "margin": null,
            "max_height": null,
            "max_width": null,
            "min_height": null,
            "min_width": null,
            "object_fit": null,
            "object_position": null,
            "order": null,
            "overflow": null,
            "overflow_x": null,
            "overflow_y": null,
            "padding": null,
            "right": null,
            "top": null,
            "visibility": null,
            "width": null
          }
        },
        "ee40b7c3942049e1bb92d02a184c051d": {
          "model_module": "@jupyter-widgets/controls",
          "model_name": "HBoxModel",
          "model_module_version": "1.5.0",
          "state": {
            "_dom_classes": [],
            "_model_module": "@jupyter-widgets/controls",
            "_model_module_version": "1.5.0",
            "_model_name": "HBoxModel",
            "_view_count": null,
            "_view_module": "@jupyter-widgets/controls",
            "_view_module_version": "1.5.0",
            "_view_name": "HBoxView",
            "box_style": "",
            "children": [
              "IPY_MODEL_b5dadd000f5b403ba67de88a4dd8fd3f",
              "IPY_MODEL_88f7eacb7bb24671a2583bb1d724a4ca",
              "IPY_MODEL_d33e2cc0a2d543308caafea01f473a32"
            ],
            "layout": "IPY_MODEL_09e3a86aca294516a5d5784a04c214ba"
          }
        },
        "b5dadd000f5b403ba67de88a4dd8fd3f": {
          "model_module": "@jupyter-widgets/controls",
          "model_name": "VBoxModel",
          "model_module_version": "1.5.0",
          "state": {
            "_dom_classes": [],
            "_model_module": "@jupyter-widgets/controls",
            "_model_module_version": "1.5.0",
            "_model_name": "VBoxModel",
            "_view_count": null,
            "_view_module": "@jupyter-widgets/controls",
            "_view_module_version": "1.5.0",
            "_view_name": "VBoxView",
            "box_style": "",
            "children": [
              "IPY_MODEL_6079367bc6b44962b0a95f28515ad9ee",
              "IPY_MODEL_4932306e79ce470792de7130d8967ea6",
              "IPY_MODEL_809b25f695ad46c185f481ad50182f73"
            ],
            "layout": "IPY_MODEL_1eb6ce0b7d0144e0adfb31abbe975f3b"
          }
        },
        "88f7eacb7bb24671a2583bb1d724a4ca": {
          "model_module": "@jupyter-widgets/controls",
          "model_name": "VBoxModel",
          "model_module_version": "1.5.0",
          "state": {
            "_dom_classes": [],
            "_model_module": "@jupyter-widgets/controls",
            "_model_module_version": "1.5.0",
            "_model_name": "VBoxModel",
            "_view_count": null,
            "_view_module": "@jupyter-widgets/controls",
            "_view_module_version": "1.5.0",
            "_view_name": "VBoxView",
            "box_style": "",
            "children": [],
            "layout": "IPY_MODEL_dc4c0bf1349947e38ba56baf2db520ca"
          }
        },
        "d33e2cc0a2d543308caafea01f473a32": {
          "model_module": "@jupyter-widgets/controls",
          "model_name": "VBoxModel",
          "model_module_version": "1.5.0",
          "state": {
            "_dom_classes": [],
            "_model_module": "@jupyter-widgets/controls",
            "_model_module_version": "1.5.0",
            "_model_name": "VBoxModel",
            "_view_count": null,
            "_view_module": "@jupyter-widgets/controls",
            "_view_module_version": "1.5.0",
            "_view_name": "VBoxView",
            "box_style": "",
            "children": [
              "IPY_MODEL_99be80cd499b403982ed8692220bf3cf",
              "IPY_MODEL_43396b266df44f8fac293d21d3fc205e",
              "IPY_MODEL_2b212ad58dc04d53bd6bbcc5e1c4fabe"
            ],
            "layout": "IPY_MODEL_b647dc687c4340f995cadf826710c52c"
          }
        },
        "09e3a86aca294516a5d5784a04c214ba": {
          "model_module": "@jupyter-widgets/base",
          "model_name": "LayoutModel",
          "model_module_version": "1.2.0",
          "state": {
            "_model_module": "@jupyter-widgets/base",
            "_model_module_version": "1.2.0",
            "_model_name": "LayoutModel",
            "_view_count": null,
            "_view_module": "@jupyter-widgets/base",
            "_view_module_version": "1.2.0",
            "_view_name": "LayoutView",
            "align_content": null,
            "align_items": null,
            "align_self": null,
            "border": null,
            "bottom": null,
            "display": null,
            "flex": null,
            "flex_flow": null,
            "grid_area": null,
            "grid_auto_columns": null,
            "grid_auto_flow": null,
            "grid_auto_rows": null,
            "grid_column": null,
            "grid_gap": null,
            "grid_row": null,
            "grid_template_areas": null,
            "grid_template_columns": null,
            "grid_template_rows": null,
            "height": null,
            "justify_content": null,
            "justify_items": null,
            "left": null,
            "margin": null,
            "max_height": null,
            "max_width": null,
            "min_height": null,
            "min_width": null,
            "object_fit": null,
            "object_position": null,
            "order": null,
            "overflow": null,
            "overflow_x": null,
            "overflow_y": null,
            "padding": null,
            "right": null,
            "top": null,
            "visibility": null,
            "width": null
          }
        },
        "6079367bc6b44962b0a95f28515ad9ee": {
          "model_module": "@jupyter-widgets/controls",
          "model_name": "FloatSliderModel",
          "model_module_version": "1.5.0",
          "state": {
            "_dom_classes": [],
            "_model_module": "@jupyter-widgets/controls",
            "_model_module_version": "1.5.0",
            "_model_name": "FloatSliderModel",
            "_view_count": null,
            "_view_module": "@jupyter-widgets/controls",
            "_view_module_version": "1.5.0",
            "_view_name": "FloatSliderView",
            "continuous_update": false,
            "description": "drift",
            "description_tooltip": null,
            "disabled": false,
            "layout": "IPY_MODEL_9e11c770115f4cdc8dc0b79c72aff626",
            "max": 5,
            "min": -5,
            "orientation": "horizontal",
            "readout": true,
            "readout_format": ".2f",
            "step": 0.1,
            "style": "IPY_MODEL_b028ef2e2dee4df6a70cfc86b3537007",
            "value": -0.36549257391484424
          }
        },
        "4932306e79ce470792de7130d8967ea6": {
          "model_module": "@jupyter-widgets/controls",
          "model_name": "FloatSliderModel",
          "model_module_version": "1.5.0",
          "state": {
            "_dom_classes": [],
            "_model_module": "@jupyter-widgets/controls",
            "_model_module_version": "1.5.0",
            "_model_name": "FloatSliderModel",
            "_view_count": null,
            "_view_module": "@jupyter-widgets/controls",
            "_view_module_version": "1.5.0",
            "_view_name": "FloatSliderView",
            "continuous_update": false,
            "description": "noise",
            "description_tooltip": null,
            "disabled": false,
            "layout": "IPY_MODEL_57d14d41bb5d489ab30171be62633c1e",
            "max": 2,
            "min": 0.1,
            "orientation": "horizontal",
            "readout": true,
            "readout_format": ".2f",
            "step": 0.019,
            "style": "IPY_MODEL_8c45cc62279e492a9735ef3fd2353611",
            "value": 0.7050720107539686
          }
        },
        "809b25f695ad46c185f481ad50182f73": {
          "model_module": "@jupyter-widgets/controls",
          "model_name": "FloatSliderModel",
          "model_module_version": "1.5.0",
          "state": {
            "_dom_classes": [],
            "_model_module": "@jupyter-widgets/controls",
            "_model_module_version": "1.5.0",
            "_model_name": "FloatSliderModel",
            "_view_count": null,
            "_view_module": "@jupyter-widgets/controls",
            "_view_module_version": "1.5.0",
            "_view_name": "FloatSliderView",
            "continuous_update": false,
            "description": "nondectime",
            "description_tooltip": null,
            "disabled": false,
            "layout": "IPY_MODEL_014650f9fc82421e8c11f8f329ad2f77",
            "max": 0.5,
            "min": 0,
            "orientation": "horizontal",
            "readout": true,
            "readout_format": ".2f",
            "step": 0.005,
            "style": "IPY_MODEL_d39a2e09d1e74cb8aa7b03ea7d282d6a",
            "value": 0.19332149244886732
          }
        },
        "1eb6ce0b7d0144e0adfb31abbe975f3b": {
          "model_module": "@jupyter-widgets/base",
          "model_name": "LayoutModel",
          "model_module_version": "1.2.0",
          "state": {
            "_model_module": "@jupyter-widgets/base",
            "_model_module_version": "1.2.0",
            "_model_name": "LayoutModel",
            "_view_count": null,
            "_view_module": "@jupyter-widgets/base",
            "_view_module_version": "1.2.0",
            "_view_name": "LayoutView",
            "align_content": null,
            "align_items": null,
            "align_self": null,
            "border": null,
            "bottom": null,
            "display": null,
            "flex": null,
            "flex_flow": null,
            "grid_area": null,
            "grid_auto_columns": null,
            "grid_auto_flow": null,
            "grid_auto_rows": null,
            "grid_column": null,
            "grid_gap": null,
            "grid_row": null,
            "grid_template_areas": null,
            "grid_template_columns": null,
            "grid_template_rows": null,
            "height": null,
            "justify_content": null,
            "justify_items": null,
            "left": null,
            "margin": null,
            "max_height": null,
            "max_width": null,
            "min_height": null,
            "min_width": null,
            "object_fit": null,
            "object_position": null,
            "order": null,
            "overflow": null,
            "overflow_x": null,
            "overflow_y": null,
            "padding": null,
            "right": null,
            "top": null,
            "visibility": null,
            "width": null
          }
        },
        "dc4c0bf1349947e38ba56baf2db520ca": {
          "model_module": "@jupyter-widgets/base",
          "model_name": "LayoutModel",
          "model_module_version": "1.2.0",
          "state": {
            "_model_module": "@jupyter-widgets/base",
            "_model_module_version": "1.2.0",
            "_model_name": "LayoutModel",
            "_view_count": null,
            "_view_module": "@jupyter-widgets/base",
            "_view_module_version": "1.2.0",
            "_view_name": "LayoutView",
            "align_content": null,
            "align_items": null,
            "align_self": null,
            "border": null,
            "bottom": null,
            "display": null,
            "flex": null,
            "flex_flow": null,
            "grid_area": null,
            "grid_auto_columns": null,
            "grid_auto_flow": null,
            "grid_auto_rows": null,
            "grid_column": null,
            "grid_gap": null,
            "grid_row": null,
            "grid_template_areas": null,
            "grid_template_columns": null,
            "grid_template_rows": null,
            "height": null,
            "justify_content": null,
            "justify_items": null,
            "left": null,
            "margin": null,
            "max_height": null,
            "max_width": null,
            "min_height": null,
            "min_width": null,
            "object_fit": null,
            "object_position": null,
            "order": null,
            "overflow": null,
            "overflow_x": null,
            "overflow_y": null,
            "padding": null,
            "right": null,
            "top": null,
            "visibility": null,
            "width": null
          }
        },
        "99be80cd499b403982ed8692220bf3cf": {
          "model_module": "@jupyter-widgets/controls",
          "model_name": "CheckboxModel",
          "model_module_version": "1.5.0",
          "state": {
            "_dom_classes": [],
            "_model_module": "@jupyter-widgets/controls",
            "_model_module_version": "1.5.0",
            "_model_name": "CheckboxModel",
            "_view_count": null,
            "_view_module": "@jupyter-widgets/controls",
            "_view_module_version": "1.5.0",
            "_view_name": "CheckboxView",
            "description": "Real-time",
            "description_tooltip": null,
            "disabled": false,
            "indent": true,
            "layout": "IPY_MODEL_8b4deffe82e9483ba9a1caab32ebe227",
            "style": "IPY_MODEL_4b1b0620169045d6b9097f81217361a6",
            "value": true
          }
        },
        "43396b266df44f8fac293d21d3fc205e": {
          "model_module": "@jupyter-widgets/controls",
          "model_name": "ButtonModel",
          "model_module_version": "1.5.0",
          "state": {
            "_dom_classes": [],
            "_model_module": "@jupyter-widgets/controls",
            "_model_module_version": "1.5.0",
            "_model_name": "ButtonModel",
            "_view_count": null,
            "_view_module": "@jupyter-widgets/controls",
            "_view_module_version": "1.5.0",
            "_view_name": "ButtonView",
            "button_style": "",
            "description": "Reset to defaults",
            "disabled": false,
            "icon": "",
            "layout": "IPY_MODEL_db4e14bbd1734e2b94bfddf96eac5975",
            "style": "IPY_MODEL_40034f9158424cc09c32818a6f0bf61f",
            "tooltip": ""
          }
        },
        "2b212ad58dc04d53bd6bbcc5e1c4fabe": {
          "model_module": "@jupyter-widgets/controls",
          "model_name": "ToggleButtonModel",
          "model_module_version": "1.5.0",
          "state": {
            "_dom_classes": [],
            "_model_module": "@jupyter-widgets/controls",
            "_model_module_version": "1.5.0",
            "_model_name": "ToggleButtonModel",
            "_view_count": null,
            "_view_module": "@jupyter-widgets/controls",
            "_view_module_version": "1.5.0",
            "_view_name": "ToggleButtonView",
            "button_style": "",
            "description": "Update",
            "description_tooltip": null,
            "disabled": false,
            "icon": "",
            "layout": "IPY_MODEL_84d0d17fec4146b38bebf51fbc3ee8b4",
            "style": "IPY_MODEL_e827f9b160c64fc1b65a2a03450b242b",
            "tooltip": "",
            "value": false
          }
        },
        "b647dc687c4340f995cadf826710c52c": {
          "model_module": "@jupyter-widgets/base",
          "model_name": "LayoutModel",
          "model_module_version": "1.2.0",
          "state": {
            "_model_module": "@jupyter-widgets/base",
            "_model_module_version": "1.2.0",
            "_model_name": "LayoutModel",
            "_view_count": null,
            "_view_module": "@jupyter-widgets/base",
            "_view_module_version": "1.2.0",
            "_view_name": "LayoutView",
            "align_content": null,
            "align_items": null,
            "align_self": null,
            "border": null,
            "bottom": null,
            "display": null,
            "flex": null,
            "flex_flow": null,
            "grid_area": null,
            "grid_auto_columns": null,
            "grid_auto_flow": null,
            "grid_auto_rows": null,
            "grid_column": null,
            "grid_gap": null,
            "grid_row": null,
            "grid_template_areas": null,
            "grid_template_columns": null,
            "grid_template_rows": null,
            "height": null,
            "justify_content": null,
            "justify_items": null,
            "left": null,
            "margin": null,
            "max_height": null,
            "max_width": null,
            "min_height": null,
            "min_width": null,
            "object_fit": null,
            "object_position": null,
            "order": null,
            "overflow": null,
            "overflow_x": null,
            "overflow_y": null,
            "padding": null,
            "right": null,
            "top": null,
            "visibility": null,
            "width": null
          }
        },
        "9e11c770115f4cdc8dc0b79c72aff626": {
          "model_module": "@jupyter-widgets/base",
          "model_name": "LayoutModel",
          "model_module_version": "1.2.0",
          "state": {
            "_model_module": "@jupyter-widgets/base",
            "_model_module_version": "1.2.0",
            "_model_name": "LayoutModel",
            "_view_count": null,
            "_view_module": "@jupyter-widgets/base",
            "_view_module_version": "1.2.0",
            "_view_name": "LayoutView",
            "align_content": null,
            "align_items": null,
            "align_self": null,
            "border": null,
            "bottom": null,
            "display": null,
            "flex": null,
            "flex_flow": null,
            "grid_area": null,
            "grid_auto_columns": null,
            "grid_auto_flow": null,
            "grid_auto_rows": null,
            "grid_column": null,
            "grid_gap": null,
            "grid_row": null,
            "grid_template_areas": null,
            "grid_template_columns": null,
            "grid_template_rows": null,
            "height": null,
            "justify_content": null,
            "justify_items": null,
            "left": null,
            "margin": null,
            "max_height": null,
            "max_width": null,
            "min_height": null,
            "min_width": null,
            "object_fit": null,
            "object_position": null,
            "order": null,
            "overflow": null,
            "overflow_x": null,
            "overflow_y": null,
            "padding": null,
            "right": null,
            "top": null,
            "visibility": null,
            "width": null
          }
        },
        "b028ef2e2dee4df6a70cfc86b3537007": {
          "model_module": "@jupyter-widgets/controls",
          "model_name": "SliderStyleModel",
          "model_module_version": "1.5.0",
          "state": {
            "_model_module": "@jupyter-widgets/controls",
            "_model_module_version": "1.5.0",
            "_model_name": "SliderStyleModel",
            "_view_count": null,
            "_view_module": "@jupyter-widgets/base",
            "_view_module_version": "1.2.0",
            "_view_name": "StyleView",
            "description_width": "",
            "handle_color": null
          }
        },
        "57d14d41bb5d489ab30171be62633c1e": {
          "model_module": "@jupyter-widgets/base",
          "model_name": "LayoutModel",
          "model_module_version": "1.2.0",
          "state": {
            "_model_module": "@jupyter-widgets/base",
            "_model_module_version": "1.2.0",
            "_model_name": "LayoutModel",
            "_view_count": null,
            "_view_module": "@jupyter-widgets/base",
            "_view_module_version": "1.2.0",
            "_view_name": "LayoutView",
            "align_content": null,
            "align_items": null,
            "align_self": null,
            "border": null,
            "bottom": null,
            "display": null,
            "flex": null,
            "flex_flow": null,
            "grid_area": null,
            "grid_auto_columns": null,
            "grid_auto_flow": null,
            "grid_auto_rows": null,
            "grid_column": null,
            "grid_gap": null,
            "grid_row": null,
            "grid_template_areas": null,
            "grid_template_columns": null,
            "grid_template_rows": null,
            "height": null,
            "justify_content": null,
            "justify_items": null,
            "left": null,
            "margin": null,
            "max_height": null,
            "max_width": null,
            "min_height": null,
            "min_width": null,
            "object_fit": null,
            "object_position": null,
            "order": null,
            "overflow": null,
            "overflow_x": null,
            "overflow_y": null,
            "padding": null,
            "right": null,
            "top": null,
            "visibility": null,
            "width": null
          }
        },
        "8c45cc62279e492a9735ef3fd2353611": {
          "model_module": "@jupyter-widgets/controls",
          "model_name": "SliderStyleModel",
          "model_module_version": "1.5.0",
          "state": {
            "_model_module": "@jupyter-widgets/controls",
            "_model_module_version": "1.5.0",
            "_model_name": "SliderStyleModel",
            "_view_count": null,
            "_view_module": "@jupyter-widgets/base",
            "_view_module_version": "1.2.0",
            "_view_name": "StyleView",
            "description_width": "",
            "handle_color": null
          }
        },
        "014650f9fc82421e8c11f8f329ad2f77": {
          "model_module": "@jupyter-widgets/base",
          "model_name": "LayoutModel",
          "model_module_version": "1.2.0",
          "state": {
            "_model_module": "@jupyter-widgets/base",
            "_model_module_version": "1.2.0",
            "_model_name": "LayoutModel",
            "_view_count": null,
            "_view_module": "@jupyter-widgets/base",
            "_view_module_version": "1.2.0",
            "_view_name": "LayoutView",
            "align_content": null,
            "align_items": null,
            "align_self": null,
            "border": null,
            "bottom": null,
            "display": null,
            "flex": null,
            "flex_flow": null,
            "grid_area": null,
            "grid_auto_columns": null,
            "grid_auto_flow": null,
            "grid_auto_rows": null,
            "grid_column": null,
            "grid_gap": null,
            "grid_row": null,
            "grid_template_areas": null,
            "grid_template_columns": null,
            "grid_template_rows": null,
            "height": null,
            "justify_content": null,
            "justify_items": null,
            "left": null,
            "margin": null,
            "max_height": null,
            "max_width": null,
            "min_height": null,
            "min_width": null,
            "object_fit": null,
            "object_position": null,
            "order": null,
            "overflow": null,
            "overflow_x": null,
            "overflow_y": null,
            "padding": null,
            "right": null,
            "top": null,
            "visibility": null,
            "width": null
          }
        },
        "d39a2e09d1e74cb8aa7b03ea7d282d6a": {
          "model_module": "@jupyter-widgets/controls",
          "model_name": "SliderStyleModel",
          "model_module_version": "1.5.0",
          "state": {
            "_model_module": "@jupyter-widgets/controls",
            "_model_module_version": "1.5.0",
            "_model_name": "SliderStyleModel",
            "_view_count": null,
            "_view_module": "@jupyter-widgets/base",
            "_view_module_version": "1.2.0",
            "_view_name": "StyleView",
            "description_width": "",
            "handle_color": null
          }
        },
        "8b4deffe82e9483ba9a1caab32ebe227": {
          "model_module": "@jupyter-widgets/base",
          "model_name": "LayoutModel",
          "model_module_version": "1.2.0",
          "state": {
            "_model_module": "@jupyter-widgets/base",
            "_model_module_version": "1.2.0",
            "_model_name": "LayoutModel",
            "_view_count": null,
            "_view_module": "@jupyter-widgets/base",
            "_view_module_version": "1.2.0",
            "_view_name": "LayoutView",
            "align_content": null,
            "align_items": null,
            "align_self": null,
            "border": null,
            "bottom": null,
            "display": null,
            "flex": null,
            "flex_flow": null,
            "grid_area": null,
            "grid_auto_columns": null,
            "grid_auto_flow": null,
            "grid_auto_rows": null,
            "grid_column": null,
            "grid_gap": null,
            "grid_row": null,
            "grid_template_areas": null,
            "grid_template_columns": null,
            "grid_template_rows": null,
            "height": null,
            "justify_content": null,
            "justify_items": null,
            "left": null,
            "margin": null,
            "max_height": null,
            "max_width": null,
            "min_height": null,
            "min_width": null,
            "object_fit": null,
            "object_position": null,
            "order": null,
            "overflow": null,
            "overflow_x": null,
            "overflow_y": null,
            "padding": null,
            "right": null,
            "top": null,
            "visibility": null,
            "width": null
          }
        },
        "4b1b0620169045d6b9097f81217361a6": {
          "model_module": "@jupyter-widgets/controls",
          "model_name": "DescriptionStyleModel",
          "model_module_version": "1.5.0",
          "state": {
            "_model_module": "@jupyter-widgets/controls",
            "_model_module_version": "1.5.0",
            "_model_name": "DescriptionStyleModel",
            "_view_count": null,
            "_view_module": "@jupyter-widgets/base",
            "_view_module_version": "1.2.0",
            "_view_name": "StyleView",
            "description_width": ""
          }
        },
        "db4e14bbd1734e2b94bfddf96eac5975": {
          "model_module": "@jupyter-widgets/base",
          "model_name": "LayoutModel",
          "model_module_version": "1.2.0",
          "state": {
            "_model_module": "@jupyter-widgets/base",
            "_model_module_version": "1.2.0",
            "_model_name": "LayoutModel",
            "_view_count": null,
            "_view_module": "@jupyter-widgets/base",
            "_view_module_version": "1.2.0",
            "_view_name": "LayoutView",
            "align_content": null,
            "align_items": null,
            "align_self": null,
            "border": null,
            "bottom": null,
            "display": null,
            "flex": null,
            "flex_flow": null,
            "grid_area": null,
            "grid_auto_columns": null,
            "grid_auto_flow": null,
            "grid_auto_rows": null,
            "grid_column": null,
            "grid_gap": null,
            "grid_row": null,
            "grid_template_areas": null,
            "grid_template_columns": null,
            "grid_template_rows": null,
            "height": null,
            "justify_content": null,
            "justify_items": null,
            "left": null,
            "margin": null,
            "max_height": null,
            "max_width": null,
            "min_height": null,
            "min_width": null,
            "object_fit": null,
            "object_position": null,
            "order": null,
            "overflow": null,
            "overflow_x": null,
            "overflow_y": null,
            "padding": null,
            "right": null,
            "top": null,
            "visibility": null,
            "width": null
          }
        },
        "40034f9158424cc09c32818a6f0bf61f": {
          "model_module": "@jupyter-widgets/controls",
          "model_name": "ButtonStyleModel",
          "model_module_version": "1.5.0",
          "state": {
            "_model_module": "@jupyter-widgets/controls",
            "_model_module_version": "1.5.0",
            "_model_name": "ButtonStyleModel",
            "_view_count": null,
            "_view_module": "@jupyter-widgets/base",
            "_view_module_version": "1.2.0",
            "_view_name": "StyleView",
            "button_color": null,
            "font_weight": ""
          }
        },
        "84d0d17fec4146b38bebf51fbc3ee8b4": {
          "model_module": "@jupyter-widgets/base",
          "model_name": "LayoutModel",
          "model_module_version": "1.2.0",
          "state": {
            "_model_module": "@jupyter-widgets/base",
            "_model_module_version": "1.2.0",
            "_model_name": "LayoutModel",
            "_view_count": null,
            "_view_module": "@jupyter-widgets/base",
            "_view_module_version": "1.2.0",
            "_view_name": "LayoutView",
            "align_content": null,
            "align_items": null,
            "align_self": null,
            "border": null,
            "bottom": null,
            "display": null,
            "flex": null,
            "flex_flow": null,
            "grid_area": null,
            "grid_auto_columns": null,
            "grid_auto_flow": null,
            "grid_auto_rows": null,
            "grid_column": null,
            "grid_gap": null,
            "grid_row": null,
            "grid_template_areas": null,
            "grid_template_columns": null,
            "grid_template_rows": null,
            "height": null,
            "justify_content": null,
            "justify_items": null,
            "left": null,
            "margin": null,
            "max_height": null,
            "max_width": null,
            "min_height": null,
            "min_width": null,
            "object_fit": null,
            "object_position": null,
            "order": null,
            "overflow": null,
            "overflow_x": null,
            "overflow_y": null,
            "padding": null,
            "right": null,
            "top": null,
            "visibility": null,
            "width": null
          }
        },
        "e827f9b160c64fc1b65a2a03450b242b": {
          "model_module": "@jupyter-widgets/controls",
          "model_name": "DescriptionStyleModel",
          "model_module_version": "1.5.0",
          "state": {
            "_model_module": "@jupyter-widgets/controls",
            "_model_module_version": "1.5.0",
            "_model_name": "DescriptionStyleModel",
            "_view_count": null,
            "_view_module": "@jupyter-widgets/base",
            "_view_module_version": "1.2.0",
            "_view_name": "StyleView",
            "description_width": ""
          }
        },
        "ac45bc2f0b2e441a9a97e35587ab2f71": {
          "model_module": "@jupyter-widgets/output",
          "model_name": "OutputModel",
          "model_module_version": "1.0.0",
          "state": {
            "_dom_classes": [],
            "_model_module": "@jupyter-widgets/output",
            "_model_module_version": "1.0.0",
            "_model_name": "OutputModel",
            "_view_count": null,
            "_view_module": "@jupyter-widgets/output",
            "_view_module_version": "1.0.0",
            "_view_name": "OutputView",
            "layout": "IPY_MODEL_31026ec9ec69449aa513ee124758ed0a",
            "msg_id": "",
            "outputs": [
              {
                "output_type": "display_data",
                "data": {
                  "text/plain": "<Figure size 640x480 with 2 Axes>",
                  "image/png": "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\n"
                },
                "metadata": {}
              }
            ]
          }
        },
        "31026ec9ec69449aa513ee124758ed0a": {
          "model_module": "@jupyter-widgets/base",
          "model_name": "LayoutModel",
          "model_module_version": "1.2.0",
          "state": {
            "_model_module": "@jupyter-widgets/base",
            "_model_module_version": "1.2.0",
            "_model_name": "LayoutModel",
            "_view_count": null,
            "_view_module": "@jupyter-widgets/base",
            "_view_module_version": "1.2.0",
            "_view_name": "LayoutView",
            "align_content": null,
            "align_items": null,
            "align_self": null,
            "border": null,
            "bottom": null,
            "display": null,
            "flex": null,
            "flex_flow": null,
            "grid_area": null,
            "grid_auto_columns": null,
            "grid_auto_flow": null,
            "grid_auto_rows": null,
            "grid_column": null,
            "grid_gap": null,
            "grid_row": null,
            "grid_template_areas": null,
            "grid_template_columns": null,
            "grid_template_rows": null,
            "height": null,
            "justify_content": null,
            "justify_items": null,
            "left": null,
            "margin": null,
            "max_height": null,
            "max_width": null,
            "min_height": null,
            "min_width": null,
            "object_fit": null,
            "object_position": null,
            "order": null,
            "overflow": null,
            "overflow_x": null,
            "overflow_y": null,
            "padding": null,
            "right": null,
            "top": null,
            "visibility": null,
            "width": null
          }
        },
        "8f0f9ed9f28e422caa863a50c7b2b3de": {
          "model_module": "@jupyter-widgets/controls",
          "model_name": "HBoxModel",
          "model_module_version": "1.5.0",
          "state": {
            "_dom_classes": [],
            "_model_module": "@jupyter-widgets/controls",
            "_model_module_version": "1.5.0",
            "_model_name": "HBoxModel",
            "_view_count": null,
            "_view_module": "@jupyter-widgets/controls",
            "_view_module_version": "1.5.0",
            "_view_name": "HBoxView",
            "box_style": "",
            "children": [
              "IPY_MODEL_45de1ba7ee674ae39da1ae59bb3bbab7",
              "IPY_MODEL_741de72fee1d46a596ed583962c13a07",
              "IPY_MODEL_240ecdecc5094a90ac742e28d35598ae"
            ],
            "layout": "IPY_MODEL_561c239bb955456ab33ce3a182ba7bd6"
          }
        },
        "45de1ba7ee674ae39da1ae59bb3bbab7": {
          "model_module": "@jupyter-widgets/controls",
          "model_name": "VBoxModel",
          "model_module_version": "1.5.0",
          "state": {
            "_dom_classes": [],
            "_model_module": "@jupyter-widgets/controls",
            "_model_module_version": "1.5.0",
            "_model_name": "VBoxModel",
            "_view_count": null,
            "_view_module": "@jupyter-widgets/controls",
            "_view_module_version": "1.5.0",
            "_view_name": "VBoxView",
            "box_style": "",
            "children": [
              "IPY_MODEL_8caa75632e3a46e882e8a66492ad3f9e",
              "IPY_MODEL_9058956e26514cee8486ed15229b053f",
              "IPY_MODEL_c0e49b502b864a88b1a2ed4702975661"
            ],
            "layout": "IPY_MODEL_25cc7644e4544db8842408042fdccd4f"
          }
        },
        "741de72fee1d46a596ed583962c13a07": {
          "model_module": "@jupyter-widgets/controls",
          "model_name": "VBoxModel",
          "model_module_version": "1.5.0",
          "state": {
            "_dom_classes": [],
            "_model_module": "@jupyter-widgets/controls",
            "_model_module_version": "1.5.0",
            "_model_name": "VBoxModel",
            "_view_count": null,
            "_view_module": "@jupyter-widgets/controls",
            "_view_module_version": "1.5.0",
            "_view_name": "VBoxView",
            "box_style": "",
            "children": [],
            "layout": "IPY_MODEL_58742703100645cabfbbfc9000ba220c"
          }
        },
        "240ecdecc5094a90ac742e28d35598ae": {
          "model_module": "@jupyter-widgets/controls",
          "model_name": "VBoxModel",
          "model_module_version": "1.5.0",
          "state": {
            "_dom_classes": [],
            "_model_module": "@jupyter-widgets/controls",
            "_model_module_version": "1.5.0",
            "_model_name": "VBoxModel",
            "_view_count": null,
            "_view_module": "@jupyter-widgets/controls",
            "_view_module_version": "1.5.0",
            "_view_name": "VBoxView",
            "box_style": "",
            "children": [
              "IPY_MODEL_999f28fa78124f32a543aee05e7c7a35",
              "IPY_MODEL_9888b03d7c1d43cabdc682b46a73b6f3",
              "IPY_MODEL_f83df646ef0d4c34b38a5560dc2e69a4"
            ],
            "layout": "IPY_MODEL_85c54d57f9304004a1e7f6d6a29f8945"
          }
        },
        "561c239bb955456ab33ce3a182ba7bd6": {
          "model_module": "@jupyter-widgets/base",
          "model_name": "LayoutModel",
          "model_module_version": "1.2.0",
          "state": {
            "_model_module": "@jupyter-widgets/base",
            "_model_module_version": "1.2.0",
            "_model_name": "LayoutModel",
            "_view_count": null,
            "_view_module": "@jupyter-widgets/base",
            "_view_module_version": "1.2.0",
            "_view_name": "LayoutView",
            "align_content": null,
            "align_items": null,
            "align_self": null,
            "border": null,
            "bottom": null,
            "display": null,
            "flex": null,
            "flex_flow": null,
            "grid_area": null,
            "grid_auto_columns": null,
            "grid_auto_flow": null,
            "grid_auto_rows": null,
            "grid_column": null,
            "grid_gap": null,
            "grid_row": null,
            "grid_template_areas": null,
            "grid_template_columns": null,
            "grid_template_rows": null,
            "height": null,
            "justify_content": null,
            "justify_items": null,
            "left": null,
            "margin": null,
            "max_height": null,
            "max_width": null,
            "min_height": null,
            "min_width": null,
            "object_fit": null,
            "object_position": null,
            "order": null,
            "overflow": null,
            "overflow_x": null,
            "overflow_y": null,
            "padding": null,
            "right": null,
            "top": null,
            "visibility": null,
            "width": null
          }
        },
        "8caa75632e3a46e882e8a66492ad3f9e": {
          "model_module": "@jupyter-widgets/controls",
          "model_name": "FloatSliderModel",
          "model_module_version": "1.5.0",
          "state": {
            "_dom_classes": [],
            "_model_module": "@jupyter-widgets/controls",
            "_model_module_version": "1.5.0",
            "_model_name": "FloatSliderModel",
            "_view_count": null,
            "_view_module": "@jupyter-widgets/controls",
            "_view_module_version": "1.5.0",
            "_view_name": "FloatSliderView",
            "continuous_update": false,
            "description": "drift",
            "description_tooltip": null,
            "disabled": false,
            "layout": "IPY_MODEL_1c52776dc8d64663977b3e49b76831f1",
            "max": 5,
            "min": -5,
            "orientation": "horizontal",
            "readout": true,
            "readout_format": ".2f",
            "step": 0.1,
            "style": "IPY_MODEL_1fad7be32f324dd3b7417936b1555350",
            "value": 1.5446888744461447
          }
        },
        "9058956e26514cee8486ed15229b053f": {
          "model_module": "@jupyter-widgets/controls",
          "model_name": "FloatSliderModel",
          "model_module_version": "1.5.0",
          "state": {
            "_dom_classes": [],
            "_model_module": "@jupyter-widgets/controls",
            "_model_module_version": "1.5.0",
            "_model_name": "FloatSliderModel",
            "_view_count": null,
            "_view_module": "@jupyter-widgets/controls",
            "_view_module_version": "1.5.0",
            "_view_name": "FloatSliderView",
            "continuous_update": false,
            "description": "noise",
            "description_tooltip": null,
            "disabled": false,
            "layout": "IPY_MODEL_e0b34fe7101749efaeeccfc80f4c7e23",
            "max": 2,
            "min": 0.1,
            "orientation": "horizontal",
            "readout": true,
            "readout_format": ".2f",
            "step": 0.019,
            "style": "IPY_MODEL_119584ae5ca6424ebf9c3610914029b4",
            "value": 1.428962744135703
          }
        },
        "c0e49b502b864a88b1a2ed4702975661": {
          "model_module": "@jupyter-widgets/controls",
          "model_name": "FloatSliderModel",
          "model_module_version": "1.5.0",
          "state": {
            "_dom_classes": [],
            "_model_module": "@jupyter-widgets/controls",
            "_model_module_version": "1.5.0",
            "_model_name": "FloatSliderModel",
            "_view_count": null,
            "_view_module": "@jupyter-widgets/controls",
            "_view_module_version": "1.5.0",
            "_view_name": "FloatSliderView",
            "continuous_update": false,
            "description": "nondectime",
            "description_tooltip": null,
            "disabled": false,
            "layout": "IPY_MODEL_1c7297f6c4874527a3b414d8c317973f",
            "max": 0.5,
            "min": 0,
            "orientation": "horizontal",
            "readout": true,
            "readout_format": ".2f",
            "step": 0.005,
            "style": "IPY_MODEL_334d8bf0cef84bd3936bf59a23ea573f",
            "value": 0.28038462002142295
          }
        },
        "25cc7644e4544db8842408042fdccd4f": {
          "model_module": "@jupyter-widgets/base",
          "model_name": "LayoutModel",
          "model_module_version": "1.2.0",
          "state": {
            "_model_module": "@jupyter-widgets/base",
            "_model_module_version": "1.2.0",
            "_model_name": "LayoutModel",
            "_view_count": null,
            "_view_module": "@jupyter-widgets/base",
            "_view_module_version": "1.2.0",
            "_view_name": "LayoutView",
            "align_content": null,
            "align_items": null,
            "align_self": null,
            "border": null,
            "bottom": null,
            "display": null,
            "flex": null,
            "flex_flow": null,
            "grid_area": null,
            "grid_auto_columns": null,
            "grid_auto_flow": null,
            "grid_auto_rows": null,
            "grid_column": null,
            "grid_gap": null,
            "grid_row": null,
            "grid_template_areas": null,
            "grid_template_columns": null,
            "grid_template_rows": null,
            "height": null,
            "justify_content": null,
            "justify_items": null,
            "left": null,
            "margin": null,
            "max_height": null,
            "max_width": null,
            "min_height": null,
            "min_width": null,
            "object_fit": null,
            "object_position": null,
            "order": null,
            "overflow": null,
            "overflow_x": null,
            "overflow_y": null,
            "padding": null,
            "right": null,
            "top": null,
            "visibility": null,
            "width": null
          }
        },
        "58742703100645cabfbbfc9000ba220c": {
          "model_module": "@jupyter-widgets/base",
          "model_name": "LayoutModel",
          "model_module_version": "1.2.0",
          "state": {
            "_model_module": "@jupyter-widgets/base",
            "_model_module_version": "1.2.0",
            "_model_name": "LayoutModel",
            "_view_count": null,
            "_view_module": "@jupyter-widgets/base",
            "_view_module_version": "1.2.0",
            "_view_name": "LayoutView",
            "align_content": null,
            "align_items": null,
            "align_self": null,
            "border": null,
            "bottom": null,
            "display": null,
            "flex": null,
            "flex_flow": null,
            "grid_area": null,
            "grid_auto_columns": null,
            "grid_auto_flow": null,
            "grid_auto_rows": null,
            "grid_column": null,
            "grid_gap": null,
            "grid_row": null,
            "grid_template_areas": null,
            "grid_template_columns": null,
            "grid_template_rows": null,
            "height": null,
            "justify_content": null,
            "justify_items": null,
            "left": null,
            "margin": null,
            "max_height": null,
            "max_width": null,
            "min_height": null,
            "min_width": null,
            "object_fit": null,
            "object_position": null,
            "order": null,
            "overflow": null,
            "overflow_x": null,
            "overflow_y": null,
            "padding": null,
            "right": null,
            "top": null,
            "visibility": null,
            "width": null
          }
        },
        "999f28fa78124f32a543aee05e7c7a35": {
          "model_module": "@jupyter-widgets/controls",
          "model_name": "CheckboxModel",
          "model_module_version": "1.5.0",
          "state": {
            "_dom_classes": [],
            "_model_module": "@jupyter-widgets/controls",
            "_model_module_version": "1.5.0",
            "_model_name": "CheckboxModel",
            "_view_count": null,
            "_view_module": "@jupyter-widgets/controls",
            "_view_module_version": "1.5.0",
            "_view_name": "CheckboxView",
            "description": "Real-time",
            "description_tooltip": null,
            "disabled": false,
            "indent": true,
            "layout": "IPY_MODEL_dbdf8fbf1cd34aab9a33b69b7d7aae0f",
            "style": "IPY_MODEL_50fd243a586446bfb2bcc5e7db1576c6",
            "value": true
          }
        },
        "9888b03d7c1d43cabdc682b46a73b6f3": {
          "model_module": "@jupyter-widgets/controls",
          "model_name": "ButtonModel",
          "model_module_version": "1.5.0",
          "state": {
            "_dom_classes": [],
            "_model_module": "@jupyter-widgets/controls",
            "_model_module_version": "1.5.0",
            "_model_name": "ButtonModel",
            "_view_count": null,
            "_view_module": "@jupyter-widgets/controls",
            "_view_module_version": "1.5.0",
            "_view_name": "ButtonView",
            "button_style": "",
            "description": "Reset to defaults",
            "disabled": false,
            "icon": "",
            "layout": "IPY_MODEL_fd5f0c4eaa1849289a1a5bf69b516951",
            "style": "IPY_MODEL_14f69f6fa843477fb0b3f2849f549123",
            "tooltip": ""
          }
        },
        "f83df646ef0d4c34b38a5560dc2e69a4": {
          "model_module": "@jupyter-widgets/controls",
          "model_name": "ToggleButtonModel",
          "model_module_version": "1.5.0",
          "state": {
            "_dom_classes": [],
            "_model_module": "@jupyter-widgets/controls",
            "_model_module_version": "1.5.0",
            "_model_name": "ToggleButtonModel",
            "_view_count": null,
            "_view_module": "@jupyter-widgets/controls",
            "_view_module_version": "1.5.0",
            "_view_name": "ToggleButtonView",
            "button_style": "",
            "description": "Update",
            "description_tooltip": null,
            "disabled": false,
            "icon": "",
            "layout": "IPY_MODEL_0283183617cd432ab6107e00a36d945a",
            "style": "IPY_MODEL_445f313767c64759a42b30ca9e476d33",
            "tooltip": "",
            "value": false
          }
        },
        "85c54d57f9304004a1e7f6d6a29f8945": {
          "model_module": "@jupyter-widgets/base",
          "model_name": "LayoutModel",
          "model_module_version": "1.2.0",
          "state": {
            "_model_module": "@jupyter-widgets/base",
            "_model_module_version": "1.2.0",
            "_model_name": "LayoutModel",
            "_view_count": null,
            "_view_module": "@jupyter-widgets/base",
            "_view_module_version": "1.2.0",
            "_view_name": "LayoutView",
            "align_content": null,
            "align_items": null,
            "align_self": null,
            "border": null,
            "bottom": null,
            "display": null,
            "flex": null,
            "flex_flow": null,
            "grid_area": null,
            "grid_auto_columns": null,
            "grid_auto_flow": null,
            "grid_auto_rows": null,
            "grid_column": null,
            "grid_gap": null,
            "grid_row": null,
            "grid_template_areas": null,
            "grid_template_columns": null,
            "grid_template_rows": null,
            "height": null,
            "justify_content": null,
            "justify_items": null,
            "left": null,
            "margin": null,
            "max_height": null,
            "max_width": null,
            "min_height": null,
            "min_width": null,
            "object_fit": null,
            "object_position": null,
            "order": null,
            "overflow": null,
            "overflow_x": null,
            "overflow_y": null,
            "padding": null,
            "right": null,
            "top": null,
            "visibility": null,
            "width": null
          }
        },
        "1c52776dc8d64663977b3e49b76831f1": {
          "model_module": "@jupyter-widgets/base",
          "model_name": "LayoutModel",
          "model_module_version": "1.2.0",
          "state": {
            "_model_module": "@jupyter-widgets/base",
            "_model_module_version": "1.2.0",
            "_model_name": "LayoutModel",
            "_view_count": null,
            "_view_module": "@jupyter-widgets/base",
            "_view_module_version": "1.2.0",
            "_view_name": "LayoutView",
            "align_content": null,
            "align_items": null,
            "align_self": null,
            "border": null,
            "bottom": null,
            "display": null,
            "flex": null,
            "flex_flow": null,
            "grid_area": null,
            "grid_auto_columns": null,
            "grid_auto_flow": null,
            "grid_auto_rows": null,
            "grid_column": null,
            "grid_gap": null,
            "grid_row": null,
            "grid_template_areas": null,
            "grid_template_columns": null,
            "grid_template_rows": null,
            "height": null,
            "justify_content": null,
            "justify_items": null,
            "left": null,
            "margin": null,
            "max_height": null,
            "max_width": null,
            "min_height": null,
            "min_width": null,
            "object_fit": null,
            "object_position": null,
            "order": null,
            "overflow": null,
            "overflow_x": null,
            "overflow_y": null,
            "padding": null,
            "right": null,
            "top": null,
            "visibility": null,
            "width": null
          }
        },
        "1fad7be32f324dd3b7417936b1555350": {
          "model_module": "@jupyter-widgets/controls",
          "model_name": "SliderStyleModel",
          "model_module_version": "1.5.0",
          "state": {
            "_model_module": "@jupyter-widgets/controls",
            "_model_module_version": "1.5.0",
            "_model_name": "SliderStyleModel",
            "_view_count": null,
            "_view_module": "@jupyter-widgets/base",
            "_view_module_version": "1.2.0",
            "_view_name": "StyleView",
            "description_width": "",
            "handle_color": null
          }
        },
        "e0b34fe7101749efaeeccfc80f4c7e23": {
          "model_module": "@jupyter-widgets/base",
          "model_name": "LayoutModel",
          "model_module_version": "1.2.0",
          "state": {
            "_model_module": "@jupyter-widgets/base",
            "_model_module_version": "1.2.0",
            "_model_name": "LayoutModel",
            "_view_count": null,
            "_view_module": "@jupyter-widgets/base",
            "_view_module_version": "1.2.0",
            "_view_name": "LayoutView",
            "align_content": null,
            "align_items": null,
            "align_self": null,
            "border": null,
            "bottom": null,
            "display": null,
            "flex": null,
            "flex_flow": null,
            "grid_area": null,
            "grid_auto_columns": null,
            "grid_auto_flow": null,
            "grid_auto_rows": null,
            "grid_column": null,
            "grid_gap": null,
            "grid_row": null,
            "grid_template_areas": null,
            "grid_template_columns": null,
            "grid_template_rows": null,
            "height": null,
            "justify_content": null,
            "justify_items": null,
            "left": null,
            "margin": null,
            "max_height": null,
            "max_width": null,
            "min_height": null,
            "min_width": null,
            "object_fit": null,
            "object_position": null,
            "order": null,
            "overflow": null,
            "overflow_x": null,
            "overflow_y": null,
            "padding": null,
            "right": null,
            "top": null,
            "visibility": null,
            "width": null
          }
        },
        "119584ae5ca6424ebf9c3610914029b4": {
          "model_module": "@jupyter-widgets/controls",
          "model_name": "SliderStyleModel",
          "model_module_version": "1.5.0",
          "state": {
            "_model_module": "@jupyter-widgets/controls",
            "_model_module_version": "1.5.0",
            "_model_name": "SliderStyleModel",
            "_view_count": null,
            "_view_module": "@jupyter-widgets/base",
            "_view_module_version": "1.2.0",
            "_view_name": "StyleView",
            "description_width": "",
            "handle_color": null
          }
        },
        "1c7297f6c4874527a3b414d8c317973f": {
          "model_module": "@jupyter-widgets/base",
          "model_name": "LayoutModel",
          "model_module_version": "1.2.0",
          "state": {
            "_model_module": "@jupyter-widgets/base",
            "_model_module_version": "1.2.0",
            "_model_name": "LayoutModel",
            "_view_count": null,
            "_view_module": "@jupyter-widgets/base",
            "_view_module_version": "1.2.0",
            "_view_name": "LayoutView",
            "align_content": null,
            "align_items": null,
            "align_self": null,
            "border": null,
            "bottom": null,
            "display": null,
            "flex": null,
            "flex_flow": null,
            "grid_area": null,
            "grid_auto_columns": null,
            "grid_auto_flow": null,
            "grid_auto_rows": null,
            "grid_column": null,
            "grid_gap": null,
            "grid_row": null,
            "grid_template_areas": null,
            "grid_template_columns": null,
            "grid_template_rows": null,
            "height": null,
            "justify_content": null,
            "justify_items": null,
            "left": null,
            "margin": null,
            "max_height": null,
            "max_width": null,
            "min_height": null,
            "min_width": null,
            "object_fit": null,
            "object_position": null,
            "order": null,
            "overflow": null,
            "overflow_x": null,
            "overflow_y": null,
            "padding": null,
            "right": null,
            "top": null,
            "visibility": null,
            "width": null
          }
        },
        "334d8bf0cef84bd3936bf59a23ea573f": {
          "model_module": "@jupyter-widgets/controls",
          "model_name": "SliderStyleModel",
          "model_module_version": "1.5.0",
          "state": {
            "_model_module": "@jupyter-widgets/controls",
            "_model_module_version": "1.5.0",
            "_model_name": "SliderStyleModel",
            "_view_count": null,
            "_view_module": "@jupyter-widgets/base",
            "_view_module_version": "1.2.0",
            "_view_name": "StyleView",
            "description_width": "",
            "handle_color": null
          }
        },
        "dbdf8fbf1cd34aab9a33b69b7d7aae0f": {
          "model_module": "@jupyter-widgets/base",
          "model_name": "LayoutModel",
          "model_module_version": "1.2.0",
          "state": {
            "_model_module": "@jupyter-widgets/base",
            "_model_module_version": "1.2.0",
            "_model_name": "LayoutModel",
            "_view_count": null,
            "_view_module": "@jupyter-widgets/base",
            "_view_module_version": "1.2.0",
            "_view_name": "LayoutView",
            "align_content": null,
            "align_items": null,
            "align_self": null,
            "border": null,
            "bottom": null,
            "display": null,
            "flex": null,
            "flex_flow": null,
            "grid_area": null,
            "grid_auto_columns": null,
            "grid_auto_flow": null,
            "grid_auto_rows": null,
            "grid_column": null,
            "grid_gap": null,
            "grid_row": null,
            "grid_template_areas": null,
            "grid_template_columns": null,
            "grid_template_rows": null,
            "height": null,
            "justify_content": null,
            "justify_items": null,
            "left": null,
            "margin": null,
            "max_height": null,
            "max_width": null,
            "min_height": null,
            "min_width": null,
            "object_fit": null,
            "object_position": null,
            "order": null,
            "overflow": null,
            "overflow_x": null,
            "overflow_y": null,
            "padding": null,
            "right": null,
            "top": null,
            "visibility": null,
            "width": null
          }
        },
        "50fd243a586446bfb2bcc5e7db1576c6": {
          "model_module": "@jupyter-widgets/controls",
          "model_name": "DescriptionStyleModel",
          "model_module_version": "1.5.0",
          "state": {
            "_model_module": "@jupyter-widgets/controls",
            "_model_module_version": "1.5.0",
            "_model_name": "DescriptionStyleModel",
            "_view_count": null,
            "_view_module": "@jupyter-widgets/base",
            "_view_module_version": "1.2.0",
            "_view_name": "StyleView",
            "description_width": ""
          }
        },
        "fd5f0c4eaa1849289a1a5bf69b516951": {
          "model_module": "@jupyter-widgets/base",
          "model_name": "LayoutModel",
          "model_module_version": "1.2.0",
          "state": {
            "_model_module": "@jupyter-widgets/base",
            "_model_module_version": "1.2.0",
            "_model_name": "LayoutModel",
            "_view_count": null,
            "_view_module": "@jupyter-widgets/base",
            "_view_module_version": "1.2.0",
            "_view_name": "LayoutView",
            "align_content": null,
            "align_items": null,
            "align_self": null,
            "border": null,
            "bottom": null,
            "display": null,
            "flex": null,
            "flex_flow": null,
            "grid_area": null,
            "grid_auto_columns": null,
            "grid_auto_flow": null,
            "grid_auto_rows": null,
            "grid_column": null,
            "grid_gap": null,
            "grid_row": null,
            "grid_template_areas": null,
            "grid_template_columns": null,
            "grid_template_rows": null,
            "height": null,
            "justify_content": null,
            "justify_items": null,
            "left": null,
            "margin": null,
            "max_height": null,
            "max_width": null,
            "min_height": null,
            "min_width": null,
            "object_fit": null,
            "object_position": null,
            "order": null,
            "overflow": null,
            "overflow_x": null,
            "overflow_y": null,
            "padding": null,
            "right": null,
            "top": null,
            "visibility": null,
            "width": null
          }
        },
        "14f69f6fa843477fb0b3f2849f549123": {
          "model_module": "@jupyter-widgets/controls",
          "model_name": "ButtonStyleModel",
          "model_module_version": "1.5.0",
          "state": {
            "_model_module": "@jupyter-widgets/controls",
            "_model_module_version": "1.5.0",
            "_model_name": "ButtonStyleModel",
            "_view_count": null,
            "_view_module": "@jupyter-widgets/base",
            "_view_module_version": "1.2.0",
            "_view_name": "StyleView",
            "button_color": null,
            "font_weight": ""
          }
        },
        "0283183617cd432ab6107e00a36d945a": {
          "model_module": "@jupyter-widgets/base",
          "model_name": "LayoutModel",
          "model_module_version": "1.2.0",
          "state": {
            "_model_module": "@jupyter-widgets/base",
            "_model_module_version": "1.2.0",
            "_model_name": "LayoutModel",
            "_view_count": null,
            "_view_module": "@jupyter-widgets/base",
            "_view_module_version": "1.2.0",
            "_view_name": "LayoutView",
            "align_content": null,
            "align_items": null,
            "align_self": null,
            "border": null,
            "bottom": null,
            "display": null,
            "flex": null,
            "flex_flow": null,
            "grid_area": null,
            "grid_auto_columns": null,
            "grid_auto_flow": null,
            "grid_auto_rows": null,
            "grid_column": null,
            "grid_gap": null,
            "grid_row": null,
            "grid_template_areas": null,
            "grid_template_columns": null,
            "grid_template_rows": null,
            "height": null,
            "justify_content": null,
            "justify_items": null,
            "left": null,
            "margin": null,
            "max_height": null,
            "max_width": null,
            "min_height": null,
            "min_width": null,
            "object_fit": null,
            "object_position": null,
            "order": null,
            "overflow": null,
            "overflow_x": null,
            "overflow_y": null,
            "padding": null,
            "right": null,
            "top": null,
            "visibility": null,
            "width": null
          }
        },
        "445f313767c64759a42b30ca9e476d33": {
          "model_module": "@jupyter-widgets/controls",
          "model_name": "DescriptionStyleModel",
          "model_module_version": "1.5.0",
          "state": {
            "_model_module": "@jupyter-widgets/controls",
            "_model_module_version": "1.5.0",
            "_model_name": "DescriptionStyleModel",
            "_view_count": null,
            "_view_module": "@jupyter-widgets/base",
            "_view_module_version": "1.2.0",
            "_view_name": "StyleView",
            "description_width": ""
          }
        },
        "e65083ddc14e4d4ba9a7469927ee708c": {
          "model_module": "@jupyter-widgets/output",
          "model_name": "OutputModel",
          "model_module_version": "1.0.0",
          "state": {
            "_dom_classes": [],
            "_model_module": "@jupyter-widgets/output",
            "_model_module_version": "1.0.0",
            "_model_name": "OutputModel",
            "_view_count": null,
            "_view_module": "@jupyter-widgets/output",
            "_view_module_version": "1.0.0",
            "_view_name": "OutputView",
            "layout": "IPY_MODEL_d76c6f96d03040fd92fe27334c6a9f04",
            "msg_id": "",
            "outputs": [
              {
                "output_type": "display_data",
                "data": {
                  "text/plain": "<Figure size 640x480 with 2 Axes>",
                  "image/png": "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\n"
                },
                "metadata": {}
              }
            ]
          }
        },
        "d76c6f96d03040fd92fe27334c6a9f04": {
          "model_module": "@jupyter-widgets/base",
          "model_name": "LayoutModel",
          "model_module_version": "1.2.0",
          "state": {
            "_model_module": "@jupyter-widgets/base",
            "_model_module_version": "1.2.0",
            "_model_name": "LayoutModel",
            "_view_count": null,
            "_view_module": "@jupyter-widgets/base",
            "_view_module_version": "1.2.0",
            "_view_name": "LayoutView",
            "align_content": null,
            "align_items": null,
            "align_self": null,
            "border": null,
            "bottom": null,
            "display": null,
            "flex": null,
            "flex_flow": null,
            "grid_area": null,
            "grid_auto_columns": null,
            "grid_auto_flow": null,
            "grid_auto_rows": null,
            "grid_column": null,
            "grid_gap": null,
            "grid_row": null,
            "grid_template_areas": null,
            "grid_template_columns": null,
            "grid_template_rows": null,
            "height": null,
            "justify_content": null,
            "justify_items": null,
            "left": null,
            "margin": null,
            "max_height": null,
            "max_width": null,
            "min_height": null,
            "min_width": null,
            "object_fit": null,
            "object_position": null,
            "order": null,
            "overflow": null,
            "overflow_x": null,
            "overflow_y": null,
            "padding": null,
            "right": null,
            "top": null,
            "visibility": null,
            "width": null
          }
        },
        "6b174c5495fe480998a603b7d5425991": {
          "model_module": "@jupyter-widgets/controls",
          "model_name": "HBoxModel",
          "model_module_version": "1.5.0",
          "state": {
            "_dom_classes": [],
            "_model_module": "@jupyter-widgets/controls",
            "_model_module_version": "1.5.0",
            "_model_name": "HBoxModel",
            "_view_count": null,
            "_view_module": "@jupyter-widgets/controls",
            "_view_module_version": "1.5.0",
            "_view_name": "HBoxView",
            "box_style": "",
            "children": [
              "IPY_MODEL_08a1fce0806345a99c0a6c47eba08320",
              "IPY_MODEL_37f04206a749437088e2019ff7cb0aa7",
              "IPY_MODEL_86801374a98d46e2baacba95a68bb6c1"
            ],
            "layout": "IPY_MODEL_de676b5e2a9d477b825796f5a9045492"
          }
        },
        "08a1fce0806345a99c0a6c47eba08320": {
          "model_module": "@jupyter-widgets/controls",
          "model_name": "VBoxModel",
          "model_module_version": "1.5.0",
          "state": {
            "_dom_classes": [],
            "_model_module": "@jupyter-widgets/controls",
            "_model_module_version": "1.5.0",
            "_model_name": "VBoxModel",
            "_view_count": null,
            "_view_module": "@jupyter-widgets/controls",
            "_view_module_version": "1.5.0",
            "_view_name": "VBoxView",
            "box_style": "",
            "children": [
              "IPY_MODEL_39556d20c3cc4243bf01e14e81e39c92",
              "IPY_MODEL_f49b15b8e8684715bdb3408275ee3f74",
              "IPY_MODEL_2405ef0c9b0d4825a8dc8cc2a490bf47"
            ],
            "layout": "IPY_MODEL_282b781a74d3400f902d43c127faa201"
          }
        },
        "37f04206a749437088e2019ff7cb0aa7": {
          "model_module": "@jupyter-widgets/controls",
          "model_name": "VBoxModel",
          "model_module_version": "1.5.0",
          "state": {
            "_dom_classes": [],
            "_model_module": "@jupyter-widgets/controls",
            "_model_module_version": "1.5.0",
            "_model_name": "VBoxModel",
            "_view_count": null,
            "_view_module": "@jupyter-widgets/controls",
            "_view_module_version": "1.5.0",
            "_view_name": "VBoxView",
            "box_style": "",
            "children": [
              "IPY_MODEL_ce657d2a25cc4a32810264b96047ccac"
            ],
            "layout": "IPY_MODEL_4ab6c2150a654a79aa67c99b5f0d9e76"
          }
        },
        "86801374a98d46e2baacba95a68bb6c1": {
          "model_module": "@jupyter-widgets/controls",
          "model_name": "VBoxModel",
          "model_module_version": "1.5.0",
          "state": {
            "_dom_classes": [],
            "_model_module": "@jupyter-widgets/controls",
            "_model_module_version": "1.5.0",
            "_model_name": "VBoxModel",
            "_view_count": null,
            "_view_module": "@jupyter-widgets/controls",
            "_view_module_version": "1.5.0",
            "_view_name": "VBoxView",
            "box_style": "",
            "children": [
              "IPY_MODEL_46160ea240ba4fe696d3ae3b53743f48",
              "IPY_MODEL_3608e32fc14746049776b64db9f8f4d3",
              "IPY_MODEL_12cb16a128534a9a8faba7b40289eea1"
            ],
            "layout": "IPY_MODEL_fe52a3fcbaea4bb4acdf2cc6a7670eba"
          }
        },
        "de676b5e2a9d477b825796f5a9045492": {
          "model_module": "@jupyter-widgets/base",
          "model_name": "LayoutModel",
          "model_module_version": "1.2.0",
          "state": {
            "_model_module": "@jupyter-widgets/base",
            "_model_module_version": "1.2.0",
            "_model_name": "LayoutModel",
            "_view_count": null,
            "_view_module": "@jupyter-widgets/base",
            "_view_module_version": "1.2.0",
            "_view_name": "LayoutView",
            "align_content": null,
            "align_items": null,
            "align_self": null,
            "border": null,
            "bottom": null,
            "display": null,
            "flex": null,
            "flex_flow": null,
            "grid_area": null,
            "grid_auto_columns": null,
            "grid_auto_flow": null,
            "grid_auto_rows": null,
            "grid_column": null,
            "grid_gap": null,
            "grid_row": null,
            "grid_template_areas": null,
            "grid_template_columns": null,
            "grid_template_rows": null,
            "height": null,
            "justify_content": null,
            "justify_items": null,
            "left": null,
            "margin": null,
            "max_height": null,
            "max_width": null,
            "min_height": null,
            "min_width": null,
            "object_fit": null,
            "object_position": null,
            "order": null,
            "overflow": null,
            "overflow_x": null,
            "overflow_y": null,
            "padding": null,
            "right": null,
            "top": null,
            "visibility": null,
            "width": null
          }
        },
        "39556d20c3cc4243bf01e14e81e39c92": {
          "model_module": "@jupyter-widgets/controls",
          "model_name": "FloatSliderModel",
          "model_module_version": "1.5.0",
          "state": {
            "_dom_classes": [],
            "_model_module": "@jupyter-widgets/controls",
            "_model_module_version": "1.5.0",
            "_model_name": "FloatSliderModel",
            "_view_count": null,
            "_view_module": "@jupyter-widgets/controls",
            "_view_module_version": "1.5.0",
            "_view_name": "FloatSliderView",
            "continuous_update": false,
            "description": "drift",
            "description_tooltip": null,
            "disabled": false,
            "layout": "IPY_MODEL_eab2dd27d00b4f47b41608ce204fc7e6",
            "max": 20,
            "min": -20,
            "orientation": "horizontal",
            "readout": true,
            "readout_format": ".2f",
            "step": 0.4,
            "style": "IPY_MODEL_79e95a71954f4d57b2aad9b06c1dc0c8",
            "value": 12.843583099317442
          }
        },
        "f49b15b8e8684715bdb3408275ee3f74": {
          "model_module": "@jupyter-widgets/controls",
          "model_name": "FloatSliderModel",
          "model_module_version": "1.5.0",
          "state": {
            "_dom_classes": [],
            "_model_module": "@jupyter-widgets/controls",
            "_model_module_version": "1.5.0",
            "_model_name": "FloatSliderModel",
            "_view_count": null,
            "_view_module": "@jupyter-widgets/controls",
            "_view_module_version": "1.5.0",
            "_view_name": "FloatSliderView",
            "continuous_update": false,
            "description": "noise",
            "description_tooltip": null,
            "disabled": false,
            "layout": "IPY_MODEL_9892a4fdb53f4382b075b2063afeed55",
            "max": 2,
            "min": 0.1,
            "orientation": "horizontal",
            "readout": true,
            "readout_format": ".2f",
            "step": 0.019,
            "style": "IPY_MODEL_399ede5e944549aea39df718160b20d2",
            "value": 1.7342268179428195
          }
        },
        "2405ef0c9b0d4825a8dc8cc2a490bf47": {
          "model_module": "@jupyter-widgets/controls",
          "model_name": "FloatSliderModel",
          "model_module_version": "1.5.0",
          "state": {
            "_dom_classes": [],
            "_model_module": "@jupyter-widgets/controls",
            "_model_module_version": "1.5.0",
            "_model_name": "FloatSliderModel",
            "_view_count": null,
            "_view_module": "@jupyter-widgets/controls",
            "_view_module_version": "1.5.0",
            "_view_name": "FloatSliderView",
            "continuous_update": false,
            "description": "nondectime",
            "description_tooltip": null,
            "disabled": false,
            "layout": "IPY_MODEL_efcc66a52c1c457795a43973ee4ecd8a",
            "max": 0.5,
            "min": 0,
            "orientation": "horizontal",
            "readout": true,
            "readout_format": ".2f",
            "step": 0.005,
            "style": "IPY_MODEL_a8931a4ff41446e58603f00af006870f",
            "value": 0.3349824358565582
          }
        },
        "282b781a74d3400f902d43c127faa201": {
          "model_module": "@jupyter-widgets/base",
          "model_name": "LayoutModel",
          "model_module_version": "1.2.0",
          "state": {
            "_model_module": "@jupyter-widgets/base",
            "_model_module_version": "1.2.0",
            "_model_name": "LayoutModel",
            "_view_count": null,
            "_view_module": "@jupyter-widgets/base",
            "_view_module_version": "1.2.0",
            "_view_name": "LayoutView",
            "align_content": null,
            "align_items": null,
            "align_self": null,
            "border": null,
            "bottom": null,
            "display": null,
            "flex": null,
            "flex_flow": null,
            "grid_area": null,
            "grid_auto_columns": null,
            "grid_auto_flow": null,
            "grid_auto_rows": null,
            "grid_column": null,
            "grid_gap": null,
            "grid_row": null,
            "grid_template_areas": null,
            "grid_template_columns": null,
            "grid_template_rows": null,
            "height": null,
            "justify_content": null,
            "justify_items": null,
            "left": null,
            "margin": null,
            "max_height": null,
            "max_width": null,
            "min_height": null,
            "min_width": null,
            "object_fit": null,
            "object_position": null,
            "order": null,
            "overflow": null,
            "overflow_x": null,
            "overflow_y": null,
            "padding": null,
            "right": null,
            "top": null,
            "visibility": null,
            "width": null
          }
        },
        "ce657d2a25cc4a32810264b96047ccac": {
          "model_module": "@jupyter-widgets/controls",
          "model_name": "DropdownModel",
          "model_module_version": "1.5.0",
          "state": {
            "_dom_classes": [],
            "_model_module": "@jupyter-widgets/controls",
            "_model_module_version": "1.5.0",
            "_model_name": "DropdownModel",
            "_options_labels": [
              "All",
              "0.0",
              "0.032",
              "0.064",
              "0.128",
              "0.256",
              "0.512"
            ],
            "_view_count": null,
            "_view_module": "@jupyter-widgets/controls",
            "_view_module_version": "1.5.0",
            "_view_name": "DropdownView",
            "description": "coh",
            "description_tooltip": null,
            "disabled": false,
            "index": 0,
            "layout": "IPY_MODEL_5a94fdf0efb14d5698a74808a0ec2e2c",
            "style": "IPY_MODEL_87dca0bfc4a34e3c86cdaf83f7577f8c"
          }
        },
        "4ab6c2150a654a79aa67c99b5f0d9e76": {
          "model_module": "@jupyter-widgets/base",
          "model_name": "LayoutModel",
          "model_module_version": "1.2.0",
          "state": {
            "_model_module": "@jupyter-widgets/base",
            "_model_module_version": "1.2.0",
            "_model_name": "LayoutModel",
            "_view_count": null,
            "_view_module": "@jupyter-widgets/base",
            "_view_module_version": "1.2.0",
            "_view_name": "LayoutView",
            "align_content": null,
            "align_items": null,
            "align_self": null,
            "border": null,
            "bottom": null,
            "display": null,
            "flex": null,
            "flex_flow": null,
            "grid_area": null,
            "grid_auto_columns": null,
            "grid_auto_flow": null,
            "grid_auto_rows": null,
            "grid_column": null,
            "grid_gap": null,
            "grid_row": null,
            "grid_template_areas": null,
            "grid_template_columns": null,
            "grid_template_rows": null,
            "height": null,
            "justify_content": null,
            "justify_items": null,
            "left": null,
            "margin": null,
            "max_height": null,
            "max_width": null,
            "min_height": null,
            "min_width": null,
            "object_fit": null,
            "object_position": null,
            "order": null,
            "overflow": null,
            "overflow_x": null,
            "overflow_y": null,
            "padding": null,
            "right": null,
            "top": null,
            "visibility": null,
            "width": null
          }
        },
        "46160ea240ba4fe696d3ae3b53743f48": {
          "model_module": "@jupyter-widgets/controls",
          "model_name": "CheckboxModel",
          "model_module_version": "1.5.0",
          "state": {
            "_dom_classes": [],
            "_model_module": "@jupyter-widgets/controls",
            "_model_module_version": "1.5.0",
            "_model_name": "CheckboxModel",
            "_view_count": null,
            "_view_module": "@jupyter-widgets/controls",
            "_view_module_version": "1.5.0",
            "_view_name": "CheckboxView",
            "description": "Real-time",
            "description_tooltip": null,
            "disabled": false,
            "indent": true,
            "layout": "IPY_MODEL_a3eabdd694b545db8ff11e16c9d3dba1",
            "style": "IPY_MODEL_261c494bdbdb441f9194f5254c8ffbef",
            "value": true
          }
        },
        "3608e32fc14746049776b64db9f8f4d3": {
          "model_module": "@jupyter-widgets/controls",
          "model_name": "ButtonModel",
          "model_module_version": "1.5.0",
          "state": {
            "_dom_classes": [],
            "_model_module": "@jupyter-widgets/controls",
            "_model_module_version": "1.5.0",
            "_model_name": "ButtonModel",
            "_view_count": null,
            "_view_module": "@jupyter-widgets/controls",
            "_view_module_version": "1.5.0",
            "_view_name": "ButtonView",
            "button_style": "",
            "description": "Reset to defaults",
            "disabled": false,
            "icon": "",
            "layout": "IPY_MODEL_9479e981fc0346438e36f462675b9d46",
            "style": "IPY_MODEL_01142704944d4f77be105865db2a0ab4",
            "tooltip": ""
          }
        },
        "12cb16a128534a9a8faba7b40289eea1": {
          "model_module": "@jupyter-widgets/controls",
          "model_name": "ToggleButtonModel",
          "model_module_version": "1.5.0",
          "state": {
            "_dom_classes": [],
            "_model_module": "@jupyter-widgets/controls",
            "_model_module_version": "1.5.0",
            "_model_name": "ToggleButtonModel",
            "_view_count": null,
            "_view_module": "@jupyter-widgets/controls",
            "_view_module_version": "1.5.0",
            "_view_name": "ToggleButtonView",
            "button_style": "",
            "description": "Update",
            "description_tooltip": null,
            "disabled": false,
            "icon": "",
            "layout": "IPY_MODEL_ad516c13cc524bf1bc363b2605247e01",
            "style": "IPY_MODEL_5a6b7ebaf6754853aa246e29149b0f19",
            "tooltip": "",
            "value": false
          }
        },
        "fe52a3fcbaea4bb4acdf2cc6a7670eba": {
          "model_module": "@jupyter-widgets/base",
          "model_name": "LayoutModel",
          "model_module_version": "1.2.0",
          "state": {
            "_model_module": "@jupyter-widgets/base",
            "_model_module_version": "1.2.0",
            "_model_name": "LayoutModel",
            "_view_count": null,
            "_view_module": "@jupyter-widgets/base",
            "_view_module_version": "1.2.0",
            "_view_name": "LayoutView",
            "align_content": null,
            "align_items": null,
            "align_self": null,
            "border": null,
            "bottom": null,
            "display": null,
            "flex": null,
            "flex_flow": null,
            "grid_area": null,
            "grid_auto_columns": null,
            "grid_auto_flow": null,
            "grid_auto_rows": null,
            "grid_column": null,
            "grid_gap": null,
            "grid_row": null,
            "grid_template_areas": null,
            "grid_template_columns": null,
            "grid_template_rows": null,
            "height": null,
            "justify_content": null,
            "justify_items": null,
            "left": null,
            "margin": null,
            "max_height": null,
            "max_width": null,
            "min_height": null,
            "min_width": null,
            "object_fit": null,
            "object_position": null,
            "order": null,
            "overflow": null,
            "overflow_x": null,
            "overflow_y": null,
            "padding": null,
            "right": null,
            "top": null,
            "visibility": null,
            "width": null
          }
        },
        "eab2dd27d00b4f47b41608ce204fc7e6": {
          "model_module": "@jupyter-widgets/base",
          "model_name": "LayoutModel",
          "model_module_version": "1.2.0",
          "state": {
            "_model_module": "@jupyter-widgets/base",
            "_model_module_version": "1.2.0",
            "_model_name": "LayoutModel",
            "_view_count": null,
            "_view_module": "@jupyter-widgets/base",
            "_view_module_version": "1.2.0",
            "_view_name": "LayoutView",
            "align_content": null,
            "align_items": null,
            "align_self": null,
            "border": null,
            "bottom": null,
            "display": null,
            "flex": null,
            "flex_flow": null,
            "grid_area": null,
            "grid_auto_columns": null,
            "grid_auto_flow": null,
            "grid_auto_rows": null,
            "grid_column": null,
            "grid_gap": null,
            "grid_row": null,
            "grid_template_areas": null,
            "grid_template_columns": null,
            "grid_template_rows": null,
            "height": null,
            "justify_content": null,
            "justify_items": null,
            "left": null,
            "margin": null,
            "max_height": null,
            "max_width": null,
            "min_height": null,
            "min_width": null,
            "object_fit": null,
            "object_position": null,
            "order": null,
            "overflow": null,
            "overflow_x": null,
            "overflow_y": null,
            "padding": null,
            "right": null,
            "top": null,
            "visibility": null,
            "width": null
          }
        },
        "79e95a71954f4d57b2aad9b06c1dc0c8": {
          "model_module": "@jupyter-widgets/controls",
          "model_name": "SliderStyleModel",
          "model_module_version": "1.5.0",
          "state": {
            "_model_module": "@jupyter-widgets/controls",
            "_model_module_version": "1.5.0",
            "_model_name": "SliderStyleModel",
            "_view_count": null,
            "_view_module": "@jupyter-widgets/base",
            "_view_module_version": "1.2.0",
            "_view_name": "StyleView",
            "description_width": "",
            "handle_color": null
          }
        },
        "9892a4fdb53f4382b075b2063afeed55": {
          "model_module": "@jupyter-widgets/base",
          "model_name": "LayoutModel",
          "model_module_version": "1.2.0",
          "state": {
            "_model_module": "@jupyter-widgets/base",
            "_model_module_version": "1.2.0",
            "_model_name": "LayoutModel",
            "_view_count": null,
            "_view_module": "@jupyter-widgets/base",
            "_view_module_version": "1.2.0",
            "_view_name": "LayoutView",
            "align_content": null,
            "align_items": null,
            "align_self": null,
            "border": null,
            "bottom": null,
            "display": null,
            "flex": null,
            "flex_flow": null,
            "grid_area": null,
            "grid_auto_columns": null,
            "grid_auto_flow": null,
            "grid_auto_rows": null,
            "grid_column": null,
            "grid_gap": null,
            "grid_row": null,
            "grid_template_areas": null,
            "grid_template_columns": null,
            "grid_template_rows": null,
            "height": null,
            "justify_content": null,
            "justify_items": null,
            "left": null,
            "margin": null,
            "max_height": null,
            "max_width": null,
            "min_height": null,
            "min_width": null,
            "object_fit": null,
            "object_position": null,
            "order": null,
            "overflow": null,
            "overflow_x": null,
            "overflow_y": null,
            "padding": null,
            "right": null,
            "top": null,
            "visibility": null,
            "width": null
          }
        },
        "399ede5e944549aea39df718160b20d2": {
          "model_module": "@jupyter-widgets/controls",
          "model_name": "SliderStyleModel",
          "model_module_version": "1.5.0",
          "state": {
            "_model_module": "@jupyter-widgets/controls",
            "_model_module_version": "1.5.0",
            "_model_name": "SliderStyleModel",
            "_view_count": null,
            "_view_module": "@jupyter-widgets/base",
            "_view_module_version": "1.2.0",
            "_view_name": "StyleView",
            "description_width": "",
            "handle_color": null
          }
        },
        "efcc66a52c1c457795a43973ee4ecd8a": {
          "model_module": "@jupyter-widgets/base",
          "model_name": "LayoutModel",
          "model_module_version": "1.2.0",
          "state": {
            "_model_module": "@jupyter-widgets/base",
            "_model_module_version": "1.2.0",
            "_model_name": "LayoutModel",
            "_view_count": null,
            "_view_module": "@jupyter-widgets/base",
            "_view_module_version": "1.2.0",
            "_view_name": "LayoutView",
            "align_content": null,
            "align_items": null,
            "align_self": null,
            "border": null,
            "bottom": null,
            "display": null,
            "flex": null,
            "flex_flow": null,
            "grid_area": null,
            "grid_auto_columns": null,
            "grid_auto_flow": null,
            "grid_auto_rows": null,
            "grid_column": null,
            "grid_gap": null,
            "grid_row": null,
            "grid_template_areas": null,
            "grid_template_columns": null,
            "grid_template_rows": null,
            "height": null,
            "justify_content": null,
            "justify_items": null,
            "left": null,
            "margin": null,
            "max_height": null,
            "max_width": null,
            "min_height": null,
            "min_width": null,
            "object_fit": null,
            "object_position": null,
            "order": null,
            "overflow": null,
            "overflow_x": null,
            "overflow_y": null,
            "padding": null,
            "right": null,
            "top": null,
            "visibility": null,
            "width": null
          }
        },
        "a8931a4ff41446e58603f00af006870f": {
          "model_module": "@jupyter-widgets/controls",
          "model_name": "SliderStyleModel",
          "model_module_version": "1.5.0",
          "state": {
            "_model_module": "@jupyter-widgets/controls",
            "_model_module_version": "1.5.0",
            "_model_name": "SliderStyleModel",
            "_view_count": null,
            "_view_module": "@jupyter-widgets/base",
            "_view_module_version": "1.2.0",
            "_view_name": "StyleView",
            "description_width": "",
            "handle_color": null
          }
        },
        "5a94fdf0efb14d5698a74808a0ec2e2c": {
          "model_module": "@jupyter-widgets/base",
          "model_name": "LayoutModel",
          "model_module_version": "1.2.0",
          "state": {
            "_model_module": "@jupyter-widgets/base",
            "_model_module_version": "1.2.0",
            "_model_name": "LayoutModel",
            "_view_count": null,
            "_view_module": "@jupyter-widgets/base",
            "_view_module_version": "1.2.0",
            "_view_name": "LayoutView",
            "align_content": null,
            "align_items": null,
            "align_self": null,
            "border": null,
            "bottom": null,
            "display": null,
            "flex": null,
            "flex_flow": null,
            "grid_area": null,
            "grid_auto_columns": null,
            "grid_auto_flow": null,
            "grid_auto_rows": null,
            "grid_column": null,
            "grid_gap": null,
            "grid_row": null,
            "grid_template_areas": null,
            "grid_template_columns": null,
            "grid_template_rows": null,
            "height": null,
            "justify_content": null,
            "justify_items": null,
            "left": null,
            "margin": null,
            "max_height": null,
            "max_width": null,
            "min_height": null,
            "min_width": null,
            "object_fit": null,
            "object_position": null,
            "order": null,
            "overflow": null,
            "overflow_x": null,
            "overflow_y": null,
            "padding": null,
            "right": null,
            "top": null,
            "visibility": null,
            "width": null
          }
        },
        "87dca0bfc4a34e3c86cdaf83f7577f8c": {
          "model_module": "@jupyter-widgets/controls",
          "model_name": "DescriptionStyleModel",
          "model_module_version": "1.5.0",
          "state": {
            "_model_module": "@jupyter-widgets/controls",
            "_model_module_version": "1.5.0",
            "_model_name": "DescriptionStyleModel",
            "_view_count": null,
            "_view_module": "@jupyter-widgets/base",
            "_view_module_version": "1.2.0",
            "_view_name": "StyleView",
            "description_width": ""
          }
        },
        "a3eabdd694b545db8ff11e16c9d3dba1": {
          "model_module": "@jupyter-widgets/base",
          "model_name": "LayoutModel",
          "model_module_version": "1.2.0",
          "state": {
            "_model_module": "@jupyter-widgets/base",
            "_model_module_version": "1.2.0",
            "_model_name": "LayoutModel",
            "_view_count": null,
            "_view_module": "@jupyter-widgets/base",
            "_view_module_version": "1.2.0",
            "_view_name": "LayoutView",
            "align_content": null,
            "align_items": null,
            "align_self": null,
            "border": null,
            "bottom": null,
            "display": null,
            "flex": null,
            "flex_flow": null,
            "grid_area": null,
            "grid_auto_columns": null,
            "grid_auto_flow": null,
            "grid_auto_rows": null,
            "grid_column": null,
            "grid_gap": null,
            "grid_row": null,
            "grid_template_areas": null,
            "grid_template_columns": null,
            "grid_template_rows": null,
            "height": null,
            "justify_content": null,
            "justify_items": null,
            "left": null,
            "margin": null,
            "max_height": null,
            "max_width": null,
            "min_height": null,
            "min_width": null,
            "object_fit": null,
            "object_position": null,
            "order": null,
            "overflow": null,
            "overflow_x": null,
            "overflow_y": null,
            "padding": null,
            "right": null,
            "top": null,
            "visibility": null,
            "width": null
          }
        },
        "261c494bdbdb441f9194f5254c8ffbef": {
          "model_module": "@jupyter-widgets/controls",
          "model_name": "DescriptionStyleModel",
          "model_module_version": "1.5.0",
          "state": {
            "_model_module": "@jupyter-widgets/controls",
            "_model_module_version": "1.5.0",
            "_model_name": "DescriptionStyleModel",
            "_view_count": null,
            "_view_module": "@jupyter-widgets/base",
            "_view_module_version": "1.2.0",
            "_view_name": "StyleView",
            "description_width": ""
          }
        },
        "9479e981fc0346438e36f462675b9d46": {
          "model_module": "@jupyter-widgets/base",
          "model_name": "LayoutModel",
          "model_module_version": "1.2.0",
          "state": {
            "_model_module": "@jupyter-widgets/base",
            "_model_module_version": "1.2.0",
            "_model_name": "LayoutModel",
            "_view_count": null,
            "_view_module": "@jupyter-widgets/base",
            "_view_module_version": "1.2.0",
            "_view_name": "LayoutView",
            "align_content": null,
            "align_items": null,
            "align_self": null,
            "border": null,
            "bottom": null,
            "display": null,
            "flex": null,
            "flex_flow": null,
            "grid_area": null,
            "grid_auto_columns": null,
            "grid_auto_flow": null,
            "grid_auto_rows": null,
            "grid_column": null,
            "grid_gap": null,
            "grid_row": null,
            "grid_template_areas": null,
            "grid_template_columns": null,
            "grid_template_rows": null,
            "height": null,
            "justify_content": null,
            "justify_items": null,
            "left": null,
            "margin": null,
            "max_height": null,
            "max_width": null,
            "min_height": null,
            "min_width": null,
            "object_fit": null,
            "object_position": null,
            "order": null,
            "overflow": null,
            "overflow_x": null,
            "overflow_y": null,
            "padding": null,
            "right": null,
            "top": null,
            "visibility": null,
            "width": null
          }
        },
        "01142704944d4f77be105865db2a0ab4": {
          "model_module": "@jupyter-widgets/controls",
          "model_name": "ButtonStyleModel",
          "model_module_version": "1.5.0",
          "state": {
            "_model_module": "@jupyter-widgets/controls",
            "_model_module_version": "1.5.0",
            "_model_name": "ButtonStyleModel",
            "_view_count": null,
            "_view_module": "@jupyter-widgets/base",
            "_view_module_version": "1.2.0",
            "_view_name": "StyleView",
            "button_color": null,
            "font_weight": ""
          }
        },
        "ad516c13cc524bf1bc363b2605247e01": {
          "model_module": "@jupyter-widgets/base",
          "model_name": "LayoutModel",
          "model_module_version": "1.2.0",
          "state": {
            "_model_module": "@jupyter-widgets/base",
            "_model_module_version": "1.2.0",
            "_model_name": "LayoutModel",
            "_view_count": null,
            "_view_module": "@jupyter-widgets/base",
            "_view_module_version": "1.2.0",
            "_view_name": "LayoutView",
            "align_content": null,
            "align_items": null,
            "align_self": null,
            "border": null,
            "bottom": null,
            "display": null,
            "flex": null,
            "flex_flow": null,
            "grid_area": null,
            "grid_auto_columns": null,
            "grid_auto_flow": null,
            "grid_auto_rows": null,
            "grid_column": null,
            "grid_gap": null,
            "grid_row": null,
            "grid_template_areas": null,
            "grid_template_columns": null,
            "grid_template_rows": null,
            "height": null,
            "justify_content": null,
            "justify_items": null,
            "left": null,
            "margin": null,
            "max_height": null,
            "max_width": null,
            "min_height": null,
            "min_width": null,
            "object_fit": null,
            "object_position": null,
            "order": null,
            "overflow": null,
            "overflow_x": null,
            "overflow_y": null,
            "padding": null,
            "right": null,
            "top": null,
            "visibility": null,
            "width": null
          }
        },
        "5a6b7ebaf6754853aa246e29149b0f19": {
          "model_module": "@jupyter-widgets/controls",
          "model_name": "DescriptionStyleModel",
          "model_module_version": "1.5.0",
          "state": {
            "_model_module": "@jupyter-widgets/controls",
            "_model_module_version": "1.5.0",
            "_model_name": "DescriptionStyleModel",
            "_view_count": null,
            "_view_module": "@jupyter-widgets/base",
            "_view_module_version": "1.2.0",
            "_view_name": "StyleView",
            "description_width": ""
          }
        },
        "036d2b30e6ce4c71b6c1e64fc966c3ae": {
          "model_module": "@jupyter-widgets/output",
          "model_name": "OutputModel",
          "model_module_version": "1.0.0",
          "state": {
            "_dom_classes": [],
            "_model_module": "@jupyter-widgets/output",
            "_model_module_version": "1.0.0",
            "_model_name": "OutputModel",
            "_view_count": null,
            "_view_module": "@jupyter-widgets/output",
            "_view_module_version": "1.0.0",
            "_view_name": "OutputView",
            "layout": "IPY_MODEL_a41213c03116487a869a9a3c8ad1ed54",
            "msg_id": "",
            "outputs": [
              {
                "output_type": "display_data",
                "data": {
                  "text/plain": "<Figure size 640x480 with 2 Axes>",
                  "image/png": "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\n"
                },
                "metadata": {}
              }
            ]
          }
        },
        "a41213c03116487a869a9a3c8ad1ed54": {
          "model_module": "@jupyter-widgets/base",
          "model_name": "LayoutModel",
          "model_module_version": "1.2.0",
          "state": {
            "_model_module": "@jupyter-widgets/base",
            "_model_module_version": "1.2.0",
            "_model_name": "LayoutModel",
            "_view_count": null,
            "_view_module": "@jupyter-widgets/base",
            "_view_module_version": "1.2.0",
            "_view_name": "LayoutView",
            "align_content": null,
            "align_items": null,
            "align_self": null,
            "border": null,
            "bottom": null,
            "display": null,
            "flex": null,
            "flex_flow": null,
            "grid_area": null,
            "grid_auto_columns": null,
            "grid_auto_flow": null,
            "grid_auto_rows": null,
            "grid_column": null,
            "grid_gap": null,
            "grid_row": null,
            "grid_template_areas": null,
            "grid_template_columns": null,
            "grid_template_rows": null,
            "height": null,
            "justify_content": null,
            "justify_items": null,
            "left": null,
            "margin": null,
            "max_height": null,
            "max_width": null,
            "min_height": null,
            "min_width": null,
            "object_fit": null,
            "object_position": null,
            "order": null,
            "overflow": null,
            "overflow_x": null,
            "overflow_y": null,
            "padding": null,
            "right": null,
            "top": null,
            "visibility": null,
            "width": null
          }
        }
      }
    }
  },
  "nbformat": 4,
  "nbformat_minor": 0
}